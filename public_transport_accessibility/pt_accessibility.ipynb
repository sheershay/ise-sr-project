{
 "cells": [
  {
   "cell_type": "code",
   "execution_count": 2,
   "metadata": {},
   "outputs": [],
   "source": [
    "import numpy as np\n",
    "import pandas as pd\n",
    "import matplotlib.pyplot as plt\n",
    "\n",
    "plt.rcParams['font.family'] = 'Malgun Gothic'"
   ]
  },
  {
   "cell_type": "markdown",
   "metadata": {},
   "source": [
    "워케이션의 정의: 개인이 대중교통을 활용해 '훌쩍' 떠날 수 있어야\n",
    "-> 비행기, 자차 제외"
   ]
  },
  {
   "cell_type": "code",
   "execution_count": 3,
   "metadata": {},
   "outputs": [],
   "source": [
    "#버스 데이터\n",
    "bus_run=pd.read_csv(\"./전국_대중교통_ 버스평균운행시간.csv\",encoding='cp949')\n",
    "bus_stop=pd.read_csv(\"./전국_대중교통_버스터미널현황.csv\",encoding='cp949')\n",
    "\n",
    "#기차 데이터\n",
    "train_run=pd.read_csv(\"./선구간별_주중여객열차운행횟수.csv\",encoding='cp949')\n",
    "train_get=pd.read_csv(\"./역별_승하차현황.csv\",encoding='cp949')"
   ]
  },
  {
   "cell_type": "code",
   "execution_count": 4,
   "metadata": {},
   "outputs": [
    {
     "data": {
      "text/html": [
       "<div>\n",
       "<style scoped>\n",
       "    .dataframe tbody tr th:only-of-type {\n",
       "        vertical-align: middle;\n",
       "    }\n",
       "\n",
       "    .dataframe tbody tr th {\n",
       "        vertical-align: top;\n",
       "    }\n",
       "\n",
       "    .dataframe thead th {\n",
       "        text-align: right;\n",
       "    }\n",
       "</style>\n",
       "<table border=\"1\" class=\"dataframe\">\n",
       "  <thead>\n",
       "    <tr style=\"text-align: right;\">\n",
       "      <th></th>\n",
       "      <th>구분</th>\n",
       "      <th>계</th>\n",
       "      <th>평균운행시간</th>\n",
       "    </tr>\n",
       "  </thead>\n",
       "  <tbody>\n",
       "    <tr>\n",
       "      <th>0</th>\n",
       "      <td>서울</td>\n",
       "      <td>5</td>\n",
       "      <td>100.200000</td>\n",
       "    </tr>\n",
       "    <tr>\n",
       "      <th>1</th>\n",
       "      <td>부산</td>\n",
       "      <td>2</td>\n",
       "      <td>147.666667</td>\n",
       "    </tr>\n",
       "    <tr>\n",
       "      <th>2</th>\n",
       "      <td>대구</td>\n",
       "      <td>4</td>\n",
       "      <td>140.766667</td>\n",
       "    </tr>\n",
       "    <tr>\n",
       "      <th>3</th>\n",
       "      <td>인천</td>\n",
       "      <td>3</td>\n",
       "      <td>115.133333</td>\n",
       "    </tr>\n",
       "    <tr>\n",
       "      <th>4</th>\n",
       "      <td>광주</td>\n",
       "      <td>10</td>\n",
       "      <td>133.333333</td>\n",
       "    </tr>\n",
       "    <tr>\n",
       "      <th>5</th>\n",
       "      <td>대전</td>\n",
       "      <td>3</td>\n",
       "      <td>125.300000</td>\n",
       "    </tr>\n",
       "    <tr>\n",
       "      <th>6</th>\n",
       "      <td>울산</td>\n",
       "      <td>2</td>\n",
       "      <td>86.700000</td>\n",
       "    </tr>\n",
       "    <tr>\n",
       "      <th>7</th>\n",
       "      <td>세종</td>\n",
       "      <td>3</td>\n",
       "      <td>46.266667</td>\n",
       "    </tr>\n",
       "    <tr>\n",
       "      <th>8</th>\n",
       "      <td>경기</td>\n",
       "      <td>28</td>\n",
       "      <td>121.133333</td>\n",
       "    </tr>\n",
       "    <tr>\n",
       "      <th>9</th>\n",
       "      <td>강원</td>\n",
       "      <td>38</td>\n",
       "      <td>79.700000</td>\n",
       "    </tr>\n",
       "    <tr>\n",
       "      <th>10</th>\n",
       "      <td>충북</td>\n",
       "      <td>19</td>\n",
       "      <td>64.633333</td>\n",
       "    </tr>\n",
       "    <tr>\n",
       "      <th>11</th>\n",
       "      <td>충남</td>\n",
       "      <td>21</td>\n",
       "      <td>42.133333</td>\n",
       "    </tr>\n",
       "    <tr>\n",
       "      <th>12</th>\n",
       "      <td>전북</td>\n",
       "      <td>33</td>\n",
       "      <td>59.800000</td>\n",
       "    </tr>\n",
       "    <tr>\n",
       "      <th>13</th>\n",
       "      <td>전남</td>\n",
       "      <td>52</td>\n",
       "      <td>64.566667</td>\n",
       "    </tr>\n",
       "    <tr>\n",
       "      <th>14</th>\n",
       "      <td>경북</td>\n",
       "      <td>61</td>\n",
       "      <td>44.533333</td>\n",
       "    </tr>\n",
       "    <tr>\n",
       "      <th>15</th>\n",
       "      <td>경남</td>\n",
       "      <td>35</td>\n",
       "      <td>73.000000</td>\n",
       "    </tr>\n",
       "    <tr>\n",
       "      <th>16</th>\n",
       "      <td>제주</td>\n",
       "      <td>2</td>\n",
       "      <td>66.866667</td>\n",
       "    </tr>\n",
       "  </tbody>\n",
       "</table>\n",
       "</div>"
      ],
      "text/plain": [
       "    구분   계      평균운행시간\n",
       "0   서울   5  100.200000\n",
       "1   부산   2  147.666667\n",
       "2   대구   4  140.766667\n",
       "3   인천   3  115.133333\n",
       "4   광주  10  133.333333\n",
       "5   대전   3  125.300000\n",
       "6   울산   2   86.700000\n",
       "7   세종   3   46.266667\n",
       "8   경기  28  121.133333\n",
       "9   강원  38   79.700000\n",
       "10  충북  19   64.633333\n",
       "11  충남  21   42.133333\n",
       "12  전북  33   59.800000\n",
       "13  전남  52   64.566667\n",
       "14  경북  61   44.533333\n",
       "15  경남  35   73.000000\n",
       "16  제주   2   66.866667"
      ]
     },
     "execution_count": 4,
     "metadata": {},
     "output_type": "execute_result"
    }
   ],
   "source": [
    "bus_run['계']=bus_stop['계']\n",
    "run_mean=(bus_run['평일']+bus_run['토요일']+bus_run['일요일'])/3\n",
    "bus_run['평균운행시간']=run_mean\n",
    "bus_run.drop(['평일','토요일','일요일'],axis=1,inplace=True)\n",
    "bus_run"
   ]
  },
  {
   "cell_type": "code",
   "execution_count": 5,
   "metadata": {},
   "outputs": [
    {
     "data": {
      "text/plain": [
       "계         1.000000\n",
       "평균운행시간   -0.509798\n",
       "Name: 계, dtype: float64"
      ]
     },
     "execution_count": 5,
     "metadata": {},
     "output_type": "execute_result"
    }
   ],
   "source": [
    "bus_matrix=bus_run.corr(numeric_only=True)\n",
    "bus_matrix['계'].sort_values(ascending=False)\n",
    "#버스 운행량과 운영 시간은 상관관계 없음"
   ]
  },
  {
   "cell_type": "code",
   "execution_count": 6,
   "metadata": {},
   "outputs": [],
   "source": [
    "bus_run['버스 점수']=bus_run['계']*bus_run['평균운행시간']"
   ]
  },
  {
   "cell_type": "code",
   "execution_count": 7,
   "metadata": {},
   "outputs": [],
   "source": [
    "train_netget=train_get['하차인원']-train_get['승차인원']\n",
    "train_get['잔여추정인원']=train_netget"
   ]
  },
  {
   "cell_type": "code",
   "execution_count": 8,
   "metadata": {},
   "outputs": [],
   "source": [
    "train_get.sort_values(by=['하차인원'],ascending=False,inplace=True)\n",
    "train_get.drop([\"역명\"],axis=1,inplace=True)\n",
    "train_get.drop_duplicates(subset=['권역'],inplace=True) #권역별 잔여추정"
   ]
  },
  {
   "cell_type": "code",
   "execution_count": 9,
   "metadata": {},
   "outputs": [
    {
     "name": "stdout",
     "output_type": "stream",
     "text": [
      "<class 'pandas.core.frame.DataFrame'>\n",
      "RangeIndex: 24 entries, 0 to 23\n",
      "Data columns (total 21 columns):\n",
      " #   Column    Non-Null Count  Dtype  \n",
      "---  ------    --------------  -----  \n",
      " 0   선명        24 non-null     object \n",
      " 1   KTX(회/일)  5 non-null      float64\n",
      " 2   ITX(회/일)  1 non-null      float64\n",
      " 3   새마을(회/일)  6 non-null      float64\n",
      " 4   무궁화(회/일)  13 non-null     float64\n",
      " 5   누리로(회/일)  3 non-null      float64\n",
      " 6   통근(회/일)   1 non-null      float64\n",
      " 7   전동차(회/일)  13 non-null     float64\n",
      " 8   경기        6 non-null      float64\n",
      " 9   충북        5 non-null      float64\n",
      " 10  충남        4 non-null      float64\n",
      " 11  대전        4 non-null      float64\n",
      " 12  경북        2 non-null      float64\n",
      " 13  대구        2 non-null      float64\n",
      " 14  경남        2 non-null      float64\n",
      " 15  울산        2 non-null      float64\n",
      " 16  부산        2 non-null      float64\n",
      " 17  전북        2 non-null      float64\n",
      " 18  광주        1 non-null      float64\n",
      " 19  전남        2 non-null      float64\n",
      " 20  강원        2 non-null      float64\n",
      "dtypes: float64(20), object(1)\n",
      "memory usage: 4.1+ KB\n"
     ]
    }
   ],
   "source": [
    "train_run.info()\n",
    "train_run.drop(['선명','통근(회/일)','전동차(회/일)'],axis=1,inplace=True)"
   ]
  },
  {
   "cell_type": "code",
   "execution_count": 10,
   "metadata": {},
   "outputs": [],
   "source": [
    "train_run.fillna(0,inplace=True)"
   ]
  },
  {
   "cell_type": "code",
   "execution_count": 11,
   "metadata": {},
   "outputs": [
    {
     "name": "stdout",
     "output_type": "stream",
     "text": [
      "<class 'pandas.core.frame.DataFrame'>\n",
      "RangeIndex: 24 entries, 0 to 23\n",
      "Data columns (total 19 columns):\n",
      " #   Column    Non-Null Count  Dtype  \n",
      "---  ------    --------------  -----  \n",
      " 0   KTX(회/일)  24 non-null     float64\n",
      " 1   ITX(회/일)  24 non-null     float64\n",
      " 2   새마을(회/일)  24 non-null     float64\n",
      " 3   무궁화(회/일)  24 non-null     float64\n",
      " 4   누리로(회/일)  24 non-null     float64\n",
      " 5   경기        24 non-null     float64\n",
      " 6   충북        24 non-null     float64\n",
      " 7   충남        24 non-null     float64\n",
      " 8   대전        24 non-null     float64\n",
      " 9   경북        24 non-null     float64\n",
      " 10  대구        24 non-null     float64\n",
      " 11  경남        24 non-null     float64\n",
      " 12  울산        24 non-null     float64\n",
      " 13  부산        24 non-null     float64\n",
      " 14  전북        24 non-null     float64\n",
      " 15  광주        24 non-null     float64\n",
      " 16  전남        24 non-null     float64\n",
      " 17  강원        24 non-null     float64\n",
      " 18  평균운행횟수    24 non-null     float64\n",
      "dtypes: float64(19)\n",
      "memory usage: 3.7 KB\n"
     ]
    }
   ],
   "source": [
    "train_run_avg=(train_run['ITX(회/일)']+train_run['KTX(회/일)']\n",
    "                     +train_run['누리로(회/일)']+train_run['무궁화(회/일)']\n",
    "                     +train_run['새마을(회/일)'])/5 #노선별 평균 운행 횟수\n",
    "train_run['평균운행횟수']=train_run_avg\n",
    "train_run.info()"
   ]
  },
  {
   "cell_type": "code",
   "execution_count": 12,
   "metadata": {},
   "outputs": [],
   "source": [
    "#평균 운행 횟수: 24X1 행렬, (각) 지역: 24X13 행렬\n",
    "#행렬곱으로 권역별 운영 (평군) 운영 횟수 산출\n",
    "train_run_areas=train_run.iloc[:,5:18]\n",
    "train_run_score=train_run_avg.T.dot(train_run_areas)\n",
    "train_run_score=pd.DataFrame(train_run_score)"
   ]
  },
  {
   "cell_type": "code",
   "execution_count": 13,
   "metadata": {},
   "outputs": [],
   "source": [
    "bus_run_score=bus_run.loc[:,['구분','버스 점수']]\n",
    "bus_run_score\n",
    "bus_run_score.drop([0,7,16],inplace=True) #분석 대상 아닌 서울, 제주, 세종 제외\n",
    "bus_run_score.loc[8,'버스 점수']=3391.733333+345.400000\n",
    "bus_run_score.drop([3],inplace=True) #인천: 경기에 더한 다음 목록에서 제외"
   ]
  },
  {
   "cell_type": "code",
   "execution_count": 14,
   "metadata": {},
   "outputs": [],
   "source": [
    "bus_run_score.set_index('구분',inplace=True)"
   ]
  },
  {
   "cell_type": "code",
   "execution_count": 15,
   "metadata": {},
   "outputs": [
    {
     "name": "stdout",
     "output_type": "stream",
     "text": [
      "<class 'pandas.core.frame.DataFrame'>\n",
      "Index: 13 entries, 부산 to 경남\n",
      "Data columns (total 1 columns):\n",
      " #   Column  Non-Null Count  Dtype  \n",
      "---  ------  --------------  -----  \n",
      " 0   버스 점수   13 non-null     float64\n",
      "dtypes: float64(1)\n",
      "memory usage: 208.0+ bytes\n",
      "None\n",
      "<class 'pandas.core.frame.DataFrame'>\n",
      "Index: 13 entries, 경기 to 강원\n",
      "Data columns (total 1 columns):\n",
      " #   Column  Non-Null Count  Dtype  \n",
      "---  ------  --------------  -----  \n",
      " 0   0       13 non-null     float64\n",
      "dtypes: float64(1)\n",
      "memory usage: 208.0+ bytes\n",
      "None\n"
     ]
    }
   ],
   "source": [
    "print(bus_run_score.info())\n",
    "print(train_run_score.info())"
   ]
  },
  {
   "cell_type": "code",
   "execution_count": 16,
   "metadata": {},
   "outputs": [
    {
     "data": {
      "text/html": [
       "<div>\n",
       "<style scoped>\n",
       "    .dataframe tbody tr th:only-of-type {\n",
       "        vertical-align: middle;\n",
       "    }\n",
       "\n",
       "    .dataframe tbody tr th {\n",
       "        vertical-align: top;\n",
       "    }\n",
       "\n",
       "    .dataframe thead th {\n",
       "        text-align: right;\n",
       "    }\n",
       "</style>\n",
       "<table border=\"1\" class=\"dataframe\">\n",
       "  <thead>\n",
       "    <tr style=\"text-align: right;\">\n",
       "      <th></th>\n",
       "      <th>0</th>\n",
       "      <th>버스 점수</th>\n",
       "    </tr>\n",
       "  </thead>\n",
       "  <tbody>\n",
       "    <tr>\n",
       "      <th>경기</th>\n",
       "      <td>93.0</td>\n",
       "      <td>3737.133333</td>\n",
       "    </tr>\n",
       "    <tr>\n",
       "      <th>충북</th>\n",
       "      <td>85.8</td>\n",
       "      <td>1228.033333</td>\n",
       "    </tr>\n",
       "    <tr>\n",
       "      <th>충남</th>\n",
       "      <td>81.4</td>\n",
       "      <td>884.800000</td>\n",
       "    </tr>\n",
       "    <tr>\n",
       "      <th>대전</th>\n",
       "      <td>81.4</td>\n",
       "      <td>375.900000</td>\n",
       "    </tr>\n",
       "    <tr>\n",
       "      <th>경북</th>\n",
       "      <td>40.2</td>\n",
       "      <td>2716.533333</td>\n",
       "    </tr>\n",
       "    <tr>\n",
       "      <th>대구</th>\n",
       "      <td>45.8</td>\n",
       "      <td>563.066667</td>\n",
       "    </tr>\n",
       "    <tr>\n",
       "      <th>경남</th>\n",
       "      <td>45.8</td>\n",
       "      <td>2555.000000</td>\n",
       "    </tr>\n",
       "    <tr>\n",
       "      <th>울산</th>\n",
       "      <td>43.8</td>\n",
       "      <td>173.400000</td>\n",
       "    </tr>\n",
       "    <tr>\n",
       "      <th>부산</th>\n",
       "      <td>43.8</td>\n",
       "      <td>295.333333</td>\n",
       "    </tr>\n",
       "    <tr>\n",
       "      <th>전북</th>\n",
       "      <td>35.6</td>\n",
       "      <td>1973.400000</td>\n",
       "    </tr>\n",
       "    <tr>\n",
       "      <th>광주</th>\n",
       "      <td>24.4</td>\n",
       "      <td>1333.333333</td>\n",
       "    </tr>\n",
       "    <tr>\n",
       "      <th>전남</th>\n",
       "      <td>35.6</td>\n",
       "      <td>3357.466667</td>\n",
       "    </tr>\n",
       "    <tr>\n",
       "      <th>강원</th>\n",
       "      <td>11.6</td>\n",
       "      <td>3028.600000</td>\n",
       "    </tr>\n",
       "  </tbody>\n",
       "</table>\n",
       "</div>"
      ],
      "text/plain": [
       "       0        버스 점수\n",
       "경기  93.0  3737.133333\n",
       "충북  85.8  1228.033333\n",
       "충남  81.4   884.800000\n",
       "대전  81.4   375.900000\n",
       "경북  40.2  2716.533333\n",
       "대구  45.8   563.066667\n",
       "경남  45.8  2555.000000\n",
       "울산  43.8   173.400000\n",
       "부산  43.8   295.333333\n",
       "전북  35.6  1973.400000\n",
       "광주  24.4  1333.333333\n",
       "전남  35.6  3357.466667\n",
       "강원  11.6  3028.600000"
      ]
     },
     "execution_count": 16,
     "metadata": {},
     "output_type": "execute_result"
    }
   ],
   "source": [
    "score_df=pd.concat([train_run_score,bus_run_score],axis='columns')\n",
    "score_df"
   ]
  },
  {
   "cell_type": "code",
   "execution_count": 17,
   "metadata": {},
   "outputs": [
    {
     "data": {
      "text/plain": [
       "(100.0, 4000.0)"
      ]
     },
     "execution_count": 17,
     "metadata": {},
     "output_type": "execute_result"
    },
    {
     "data": {
      "image/png": "[encoded data removed]",
      "text/plain": [
       "<Figure size 640x480 with 1 Axes>"
      ]
     },
     "metadata": {},
     "output_type": "display_data"
    }
   ],
   "source": [
    "plt.scatter(score_df[0],score_df['버스 점수'],alpha=0.2,s=100)\n",
    "plt.scatter(35.6,3357.466667,c='red',label='전남',s=100)\n",
    "plt.scatter(11.6,3028.6,c='grey',label='강원',s=100)\n",
    "plt.scatter(93.0,3737.133333,c='cyan',label='경기',s=100) \n",
    "plt.legend(loc=3)\n",
    "\n",
    "plt.title('권역별 대중교통점수')\n",
    "plt.xlabel('기차')\n",
    "plt.ylabel('버스')\n",
    "\n",
    "#ymin,ymax=plt.ylim() #-4.786666650000001 3915.31999965\n",
    "plt.ylim(100,4000)"
   ]
  }
 ],
 "metadata": {
  "kernelspec": {
   "display_name": "Python 3",
   "language": "python",
   "name": "python3"
  },
  "language_info": {
   "codemirror_mode": {
    "name": "ipython",
    "version": 3
   },
   "file_extension": ".py",
   "mimetype": "text/x-python",
   "name": "python",
   "nbconvert_exporter": "python",
   "pygments_lexer": "ipython3",
   "version": "3.10.6"
  }
 },
 "nbformat": 4,
 "nbformat_minor": 2
}
