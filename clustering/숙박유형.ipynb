{
 "cells": [
  {
   "cell_type": "code",
   "execution_count": 4,
   "metadata": {},
   "outputs": [],
   "source": [
    "import numpy as np\n",
    "import pandas as pd\n",
    "import matplotlib.pyplot as plt\n",
    "from pyproj import Proj, transform\n",
    "\n",
    "plt.rcParams['font.family'] = 'Malgun Gothic'"
   ]
  },
  {
   "cell_type": "code",
   "execution_count": 5,
   "metadata": {},
   "outputs": [],
   "source": [
    "#숙박 유형\n",
    "pension=pd.read_excel(\"./숙박유형_관광펜션업.xlsx\")\n",
    "camping=pd.read_excel(\"./숙박유형_일반야영장업.xlsx\")\n",
    "hanok=pd.read_excel(\"./숙박유형_한옥체험업.xlsx\")\n",
    "resort=pd.read_excel(\"./숙박유형_호텔리조트.xlsx\") "
   ]
  },
  {
   "cell_type": "code",
   "execution_count": 8,
   "metadata": {},
   "outputs": [],
   "source": [
    "#콘텐츠\n",
    "rural=pd.read_excel('./콘텐츠_농어촌숙박.xlsx')"
   ]
  },
  {
   "cell_type": "code",
   "execution_count": 9,
   "metadata": {},
   "outputs": [],
   "source": [
    "pension.drop(pension[(pension['영업상태구분코드']!=1)].index,inplace=True)\n",
    "camping.drop(camping[(camping['영업상태구분코드']!=1)].index,inplace=True)\n",
    "hanok.drop(hanok[(hanok['영업상태구분코드']!=1)].index,inplace=True)\n",
    "resort.drop(resort[(resort['영업상태구분코드']!=1)].index,inplace=True)\n",
    "#1: 영업/정상"
   ]
  },
  {
   "cell_type": "code",
   "execution_count": 10,
   "metadata": {},
   "outputs": [],
   "source": [
    "pension=pension[pension['개방자치단체코드'].between(4800000,5100000)]\n",
    "camping=camping[camping['개방자치단체코드'].between(4800000,5100000)]\n",
    "hanok=hanok[hanok['개방자치단체코드'].between(4800000,5100000)]\n",
    "resort=resort[resort['개방자치단체코드'].between(4800000,5100000)]"
   ]
  },
  {
   "cell_type": "code",
   "execution_count": 11,
   "metadata": {},
   "outputs": [],
   "source": [
    "ps=pension.loc[:,['좌표정보(X)','좌표정보(Y)']]\n",
    "cp=camping.loc[:,['좌표정보(X)','좌표정보(Y)']]\n",
    "hk=hanok.loc[:,['좌표정보(X)','좌표정보(Y)']]\n",
    "rs=resort.loc[:,['좌표정보(X)','좌표정보(Y)']]"
   ]
  },
  {
   "cell_type": "code",
   "execution_count": 16,
   "metadata": {},
   "outputs": [
    {
     "name": "stderr",
     "output_type": "stream",
     "text": [
      "c:\\Users\\user\\AppData\\Local\\Programs\\Python\\Python310\\lib\\site-packages\\pyproj\\crs\\crs.py:141: FutureWarning: '+init=<authority>:<code>' syntax is deprecated. '<authority>:<code>' is the preferred initialization method. When making the change, be mindful of axis order changes: https://pyproj4.github.io/pyproj/stable/gotchas.html#axis-order-changes-in-proj-6\n",
      "  in_crs_string = _prepare_from_proj_string(in_crs_string)\n",
      "c:\\Users\\user\\AppData\\Local\\Programs\\Python\\Python310\\lib\\site-packages\\pyproj\\crs\\crs.py:141: FutureWarning: '+init=<authority>:<code>' syntax is deprecated. '<authority>:<code>' is the preferred initialization method. When making the change, be mindful of axis order changes: https://pyproj4.github.io/pyproj/stable/gotchas.html#axis-order-changes-in-proj-6\n",
      "  in_crs_string = _prepare_from_proj_string(in_crs_string)\n",
      "C:\\Users\\user\\AppData\\Local\\Temp\\ipykernel_198036\\902924883.py:4: FutureWarning: This function is deprecated. See: https://pyproj4.github.io/pyproj/stable/gotchas.html#upgrading-to-pyproj-2-from-pyproj-1\n",
      "  converted = transform(proj_1, proj_2, ps['좌표정보(X)'].values, ps['좌표정보(Y)'].values)\n"
     ]
    }
   ],
   "source": [
    "proj_1 = Proj(init='epsg:2097')\n",
    "proj_2 = Proj(init='epsg:4326')\n",
    "\n",
    "accomm=[ps,cp,hk,rs]\n",
    "\n",
    "for acco in accomm:\n",
    "    convert = transform(proj_1, proj_2, acco['좌표정보(X)'].values, acco['좌표정보(Y)'].values)\n",
    "    acco['경도'] = convert[0]\n",
    "    acco['위도'] = convert[1]\n",
    "\n",
    "# convert_2 = transform(proj_1, proj_2, ps['좌표정보(X)'].values, ps['좌표정보(Y)'].values)\n",
    "# ps['경도'] = convert_1[0]\n",
    "# ps['위도'] = convert_1[1]\n",
    "\n",
    "# convert_1 = transform(proj_1, proj_2, ps['좌표정보(X)'].values, ps['좌표정보(Y)'].values)\n",
    "# ps['경도'] = convert_1[0]\n",
    "# ps['위도'] = convert_1[1]\n",
    "\n",
    "# convert_1 = transform(proj_1, proj_2, ps['좌표정보(X)'].values, ps['좌표정보(Y)'].values)\n",
    "# ps['경도'] = convert_1[0]\n",
    "# ps['위도'] = convert_1[1]\n",
    "\n",
    "# ps_fr=ps.loc[:,['경도','위도']]"
   ]
  },
  {
   "cell_type": "code",
   "execution_count": null,
   "metadata": {},
   "outputs": [],
   "source": [
    "plt.scatter(x=ps['좌표정보(X)'],y=ps['좌표정보(Y)'],alpha=0.5,s=100,c='b',label='펜션')\n",
    "plt.scatter(x=cp['좌표정보(X)'],y=cp['좌표정보(Y)'],alpha=0.5,s=100,c='g',label='일반야영장')\n",
    "plt.scatter(x=hk['좌표정보(X)'],y=hk['좌표정보(Y)'],alpha=0.5,s=100,c='r',label='한옥체험')\n",
    "plt.scatter(x=rs['좌표정보(X)'],y=rs['좌표정보(Y)'],alpha=0.5,s=100,c='m',label='호텔리조트')\n",
    "\n",
    "plt.title('숙소유형 분포도')\n",
    "\n",
    "xmin,xmax=plt.xlim()\n",
    "ymin,ymax=plt.ylim()\n",
    "\n",
    "plt.legend()\n",
    "\n",
    "plt.show()\n",
    "\n",
    "print(xmin,xmax,ymin,ymax)"
   ]
  },
  {
   "cell_type": "code",
   "execution_count": null,
   "metadata": {},
   "outputs": [],
   "source": [
    "jeonnam_df=pd.concat([ps,cp,hk,rs],ignore_index=True)\n",
    "jeonnam_df['속성']=['숙소']*1713"
   ]
  }
 ],
 "metadata": {
  "kernelspec": {
   "display_name": "Python 3",
   "language": "python",
   "name": "python3"
  },
  "language_info": {
   "codemirror_mode": {
    "name": "ipython",
    "version": 3
   },
   "file_extension": ".py",
   "mimetype": "text/x-python",
   "name": "python",
   "nbconvert_exporter": "python",
   "pygments_lexer": "ipython3",
   "version": "3.10.6"
  }
 },
 "nbformat": 4,
 "nbformat_minor": 2
}
