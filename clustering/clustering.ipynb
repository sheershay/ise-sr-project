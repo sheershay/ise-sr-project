{
 "cells": [
  {
   "cell_type": "code",
   "execution_count": 290,
   "metadata": {},
   "outputs": [],
   "source": [
    "import numpy as np\n",
    "import pandas as pd\n",
    "import matplotlib.pyplot as plt\n",
    "\n",
    "from pyproj import Transformer\n",
    "\n",
    "from sklearn.preprocessing import StandardScaler\n",
    "\n",
    "from sklearn.model_selection import GridSearchCV, RepeatedStratifiedKFold\n",
    "from sklearn.svm import SVC\n",
    "\n",
    "from sklearn.decomposition import PCA\n",
    "\n",
    "from sklearn.linear_model import LinearRegression\n",
    "\n",
    "plt.rcParams['font.family'] = 'Malgun Gothic'\n",
    "plt.rcParams['axes.unicode_minus'] = False"
   ]
  },
  {
   "cell_type": "code",
   "execution_count": 291,
   "metadata": {},
   "outputs": [],
   "source": [
    "#기본 정보\n",
    "coord_std=pd.read_excel('./기본정보_위경도.xlsx')\n",
    "\n",
    "#숙박 유형\n",
    "pension=pd.read_excel(\"./숙박유형_관광펜션업.xlsx\")\n",
    "camping=pd.read_excel(\"./숙박유형_일반야영장업.xlsx\")\n",
    "hanok=pd.read_excel(\"./숙박유형_한옥체험업.xlsx\")\n",
    "resort=pd.read_excel(\"./숙박유형_호텔리조트.xlsx\") \n",
    "\n",
    "#비대면\n",
    "alien1=pd.read_csv('./비대면_외지인방문자수_1.csv',encoding='cp949')\n",
    "alien2=pd.read_csv('./비대면_외지인방문자수_2.csv',encoding='cp949')\n",
    "resider1=pd.read_csv('./비대면_현지인방문자수_1.csv',encoding='cp949')\n",
    "resider2=pd.read_csv('./비대면_현지인방문자수_2.csv',encoding='cp949')\n",
    "\n",
    "#식음및부대시설\n",
    "meal=pd.read_csv('./부대시설_음식점.csv',encoding='cp949')\n",
    "cafe=pd.read_csv('./부대시설_휴게음식점.csv',encoding='utf-8')\n",
    "\n",
    "#콘텐츠\n",
    "contents1=pd.read_csv('./콘텐츠_관광지_검색순위_상.csv',encoding='cp949')\n",
    "contents2=pd.read_csv('./콘텐츠_관광지_검색순위_하.csv',encoding='cp949')"
   ]
  },
  {
   "cell_type": "code",
   "execution_count": 292,
   "metadata": {},
   "outputs": [],
   "source": [
    "#xy좌표를 위경도로 변환\n",
    "transformer = Transformer.from_crs(2097, 4326)\n",
    "\n",
    "def convert_coordinates(lon, lat):\n",
    "    new_lat, new_lon = transformer.transform(lat, lon) \n",
    "    return new_lon, new_lat"
   ]
  },
  {
   "cell_type": "markdown",
   "metadata": {},
   "source": [
    "# 데이터 준비"
   ]
  },
  {
   "cell_type": "markdown",
   "metadata": {},
   "source": [
    "숙소"
   ]
  },
  {
   "cell_type": "code",
   "execution_count": 293,
   "metadata": {},
   "outputs": [],
   "source": [
    "#숙소\n",
    "def accomm_preprocess(accomm):\n",
    "    accomm.drop(accomm[(accomm['영업상태구분코드']!=1)].index,inplace=True)\n",
    "    accomm=accomm[accomm['개방자치단체코드'].between(4800000,5010000)]\n",
    "    accomm=accomm.loc[:,['개방자치단체코드','좌표정보(X)','좌표정보(Y)']]\n",
    "    accomm.dropna(axis=0,inplace=True)\n",
    "    return accomm\n",
    "\n",
    "pension=accomm_preprocess(pension)\n",
    "camping=accomm_preprocess(camping)\n",
    "hanok=accomm_preprocess(hanok)\n",
    "resort=accomm_preprocess(resort)"
   ]
  },
  {
   "cell_type": "code",
   "execution_count": 294,
   "metadata": {},
   "outputs": [],
   "source": [
    "pension['경도'], pension['위도'] = zip(*pension.apply(lambda row: convert_coordinates(row['좌표정보(X)'], row['좌표정보(Y)']), axis=1))\n",
    "camping['경도'], camping['위도'] = zip(*camping.apply(lambda row: convert_coordinates(row['좌표정보(X)'], row['좌표정보(Y)']), axis=1))\n",
    "hanok['경도'], hanok['위도'] = zip(*hanok.apply(lambda row: convert_coordinates(row['좌표정보(X)'], row['좌표정보(Y)']), axis=1))\n",
    "resort['경도'], resort['위도'] = zip(*resort.apply(lambda row: convert_coordinates(row['좌표정보(X)'], row['좌표정보(Y)']), axis=1))"
   ]
  },
  {
   "cell_type": "code",
   "execution_count": 295,
   "metadata": {},
   "outputs": [],
   "source": [
    "accomm_df=pd.concat([pension,camping,hanok,resort],ignore_index=True)\n",
    "accomm_df.drop(['좌표정보(X)','좌표정보(Y)'],axis=1,inplace=True)"
   ]
  },
  {
   "cell_type": "code",
   "execution_count": 296,
   "metadata": {},
   "outputs": [],
   "source": [
    "acco_n=list(accomm_df['개방자치단체코드'].value_counts()) #지역별 숙소 개수"
   ]
  },
  {
   "cell_type": "markdown",
   "metadata": {},
   "source": [
    "부대시설(카페)"
   ]
  },
  {
   "cell_type": "code",
   "execution_count": 297,
   "metadata": {},
   "outputs": [],
   "source": [
    "#카페\n",
    "def cafe_preprocess(cafe):\n",
    "    cafe.drop(cafe[(cafe['영업상태명']!='영업/정상')].index,inplace=True)\n",
    "    cafe=cafe.loc[:,['소재지전체주소','좌표정보(X)','좌표정보(Y)']]\n",
    "    cafe.dropna(axis=0,inplace=True)\n",
    "    return cafe\n",
    "\n",
    "cafe=cafe_preprocess(cafe)\n",
    "cafe['경도'], cafe['위도'] = zip(*cafe.apply(lambda row: convert_coordinates(row['좌표정보(X)'], row['좌표정보(Y)']), axis=1))"
   ]
  },
  {
   "cell_type": "code",
   "execution_count": 298,
   "metadata": {},
   "outputs": [],
   "source": [
    "cafe_address=cafe['소재지전체주소']\n",
    "cafe_address_fr=cafe_address.str.slice(start=4, stop=9, step=1)\n",
    "cafe_n=list(cafe_address_fr.value_counts())"
   ]
  },
  {
   "cell_type": "markdown",
   "metadata": {},
   "source": [
    "매력 요소: 비대면 지수, 외부 유입 지수"
   ]
  },
  {
   "cell_type": "code",
   "execution_count": 299,
   "metadata": {},
   "outputs": [],
   "source": [
    "alien=pd.concat([alien1,alien2],axis=1,ignore_index=True)\n",
    "alien.drop([2],axis=1,inplace=True) #순위 제거\n",
    "alien['외지인방문자_평균']=(alien[1]+alien[3])/2\n",
    "alien['외지인방문자_변화량']=alien[3]-alien[1]\n",
    "\n",
    "\n",
    "resider=pd.concat([resider1,resider2],axis=1,ignore_index=True)\n",
    "resider.drop([2],axis=1,inplace=True)\n",
    "resider['현지인방문자_평균']=(resider[1]+resider[3])/2\n",
    "resider['현지인방문자_변화량']=resider[3]-resider[1]\n",
    "\n",
    "attract_index=alien.index\n",
    "ref_score=(alien['외지인방문자_평균']/resider['현지인방문자_평균'])*100 #선행연구 \n",
    "\n",
    "attract_df=pd.concat([alien[0],alien['외지인방문자_평균'],alien['외지인방문자_변화량'],\n",
    "                      resider['현지인방문자_평균'],resider['현지인방문자_변화량'],\n",
    "                      ref_score],axis=1)\n",
    "attract_col=['지역','외지인_평균','외지인_변화량','현지인_평균','현지인_변화량','비대면지수']\n",
    "attract_df.columns=attract_col"
   ]
  },
  {
   "cell_type": "code",
   "execution_count": 300,
   "metadata": {},
   "outputs": [
    {
     "name": "stdout",
     "output_type": "stream",
     "text": [
      "     지역      외지인_평균    외지인_변화량      현지인_평균    현지인_변화량       비대면지수  숙소개수  카페개수\n",
      "0   목포시  25342577.5  1375735.0  61463293.0  4834018.0   41.232053   268  1226\n",
      "1   여수시  27043371.0   860290.0  54737364.5  4424665.0   49.405687   143  1179\n",
      "2   순천시  25939672.5  2755781.0  60239103.5  4817389.0   43.061186    70   860\n",
      "3   나주시  16335163.0    37614.0  26343338.0  1961084.0   62.008706    52   563\n",
      "4   광양시  13620096.0   583696.0  27746306.0  2652488.0   49.087961    44   416\n",
      "5   담양군  15548173.0   580902.0   9472426.5   965485.0  164.141395    43   366\n",
      "6   곡성군   5699939.0   456798.0   5125011.5   247975.0  111.218072    39   264\n",
      "7   구례군   5957218.5   465727.0   5052521.5   505985.0  117.905852    37   261\n",
      "8   고흥군   6804036.5   -21535.0   9776511.5  1026949.0   69.595750    28   260\n",
      "9   보성군   7103425.0   468294.0   7201938.0   680620.0   98.632132    27   193\n",
      "10  화순군  12512281.5   545023.0  14853480.0   853464.0   84.238047    27   167\n",
      "11  장흥군   5282706.0   319140.0   9099501.5   684541.0   58.054895    27   154\n",
      "12  강진군   5660625.5   239599.0   8060236.0   403176.0   70.229029    26   146\n",
      "13  해남군   8823326.5   419717.0  11987260.5   551001.0   73.605863    25   139\n",
      "14  영암군  10411912.0   376544.0  12958970.5   790699.0   80.345210    20   136\n",
      "15  무안군  14931294.0   952188.0  18673130.0  3486328.0   79.961388    17   121\n",
      "16  함평군   6425657.0   367864.0   4711705.0   313198.0  136.376471    17   120\n",
      "17  영광군   7320827.5   143647.0  11707580.5  1037729.0   62.530661    17   112\n",
      "18  장성군  10363132.5   783153.0   8304756.0   661132.0  124.785514    13    96\n",
      "19  완도군   5912923.0    93678.0  11297261.0   887166.0   52.339439    11    85\n",
      "20  진도군   5005116.0   177324.0   5544058.0   540348.0   90.278926     9    83\n",
      "21  신안군   6929972.0   143676.0   5654231.0   741114.0  122.562591     7    61\n"
     ]
    }
   ],
   "source": [
    "attract_df['숙소개수']=acco_n\n",
    "attract_df['카페개수']=cafe_n\n",
    "print(attract_df) #1차 데이터 프레임 생성"
   ]
  },
  {
   "cell_type": "markdown",
   "metadata": {},
   "source": [
    "콘텐츠"
   ]
  },
  {
   "cell_type": "code",
   "execution_count": 301,
   "metadata": {},
   "outputs": [],
   "source": [
    "contents2.drop('광역시/도',axis=1,inplace=True)"
   ]
  },
  {
   "cell_type": "code",
   "execution_count": 302,
   "metadata": {},
   "outputs": [
    {
     "name": "stdout",
     "output_type": "stream",
     "text": [
      "451\n",
      "['순천만국가정원', '목포역', '순천역', '죽녹원', '오동도', '여수해상케이블카놀아정류장', 'LF스퀘어광양점', '완도항여객선터미널', '향일암', '목포해상케이블카북항승강장', '아쿠아플라넷여수', '여수엑스포역', '목포종합버스터미널', '화엄사', '나주역', '여수예술랜드', '목포연안여객선터미널', '녹동항', '롯데아울렛남악점', '백양사', '여수공항', '메타프로방스', '순천종합버스터미널', '순천만습지', '낙안읍성민속마을', '섬진강기차마을', '유월드루지테마파크', '율포해수욕장', '영광종합버스터미널', '선암사', '아르떼뮤지엄여수', '불갑사', '송광사', '진도항', '녹동신항연안여객선터미널', 'NC백화점순천점', '여수수산시장', '돌산공원', '무안CC', 'CGV순천신대', '장성역', '푸른솔GC', '무안국제공항', '호남해안로드4코스영광백수해안도로', '여수수산물특화시장', '대흥사', '벌교역', '목포항국제여객터미널', '골드레이크CC', '해남종합버스터미널', '담양관방제림', '사성암', '여수종합버스터미널', '여천역', '암태남강선착장', '중마버스터미널', '신지명사십리해수욕장', '무등산CC', '만성리검은모래해변', '메타세쿼이아가로수길', '구례구역', '순천아랫장', '운림산방', '순천오픈세트장', '아크로CC', '여수연안여객선터미널', '정남진장흥토요시장', '강진버스여객터미널', '신기항여객터미널', 'JNJ골프리조트', '소쇄원', '갓바위', '함평엘리체CC', '나로우주센터우주과학관', '천은사', '진남관공사중(2023년12월완공예정)', '땅끝전망대', '골프존카운티순천', '돌머리해변', '무안시외버스터미널', '목포북항', '땅끝선착장', '여수구항방파제등대', '목포근대역사관1관', '청호시장', '다산베아채CC', '파인비치골프링크스', '목포종합수산시장', '화순CC', '웅천친수공원', '광주CC', '메타세콰이어길', '사우스링스영암CC짐앵', '파인힐스CC', '엘리체컨트리클럽', '영산포공용터미널', '해피니스CC', '국립나주박물관', '보성녹차밭', '윤제림', '고흥우주발사전망대', '창평시장', '여수엑스포여객선터미널', '무안회산백련지', '와온해변', '노고단', '광양버스터미널', '정남진편백숲우드랜드', '담양레이나CC', '곡성역', '쌍산재', '남미륵사', '여수해상케이블카해야정류장', '솔라시도CC', '조례호수공원', '왕인박사유적지', '동부시장', '중마시장', '담양온천', '순천시농산물도매시장', '도곡온천단지', '목포스카이워크', '담양공용버스터미널', '웨스트오션컨트리클럽', '해양수산과학관', '해남공룡박물관', '운주사', '무안클린밸리CC', '여수해양레일바이크', 'CGV목포평화광장', '나주시외버스터미널', '월출산기찬랜드', '빛가람전망대', '순천만국제습지센터', '함평엑스포공원', '보성CC', '마량항', '구례5일장', '목포해상케이블카고하도승강장', '완도타워', '국동항', '세방낙조전망대', '자유시장', '백야선착장', 'CGV나주', '설도항', '서시장', '진도타워', '진도개테마파크', '당목항', '웃장', '유달산공원', '나로도항', '천사섬분재공원', '서망항', '미황사', '광양청매실농원', '화흥포여객선터미널', '구례자연드림파크', '백암해안전망대', '고하도전망대', '고흥공용시외버스터미널', '톱머리해변', '장흥시외버스터미널', '구례공영버스터미널', '세이지우드여수경도CC', '제암산자연휴양림', '연희네슈퍼', '함평시외버스터미널', '한빛원자력발전소홍보관', '완도공용버스터미널', '담양곤충박물관', '독천터미널', '백운산자연휴양림', '목포국제축구센터', '우수영국민관광지', '몰오브광양', '녹테마레', '포라이즌', '황룡강생태공원', '드들강솔밭유원지', '강진만생태공원', '동구리호수공원', '추월산', 'GS칼텍스예울마루', '목포항', '무안황토갯벌랜드', '교동시장', '여수시티파크리조트CC', '진도종합버스터미널', '메가박스순천', '보성역', '모다아울렛순천점', '지리산온천랜드본관 휴업중', '금호화순아쿠아나', '녹동신항', '송공리선착장', '조아밸리CC', '빛가람호수공원', '영광칠산타워', '벌교시장', '백양우리CC', '정남진전망대', '완도수목원', '다산초당', '섬진강어류생태관', '압록유원지', '롯데몰여수점', '창평CC', '송호해수욕장', '퍼플교', '여수해양공원', '디오션CC', '목포신항만', '오동도유람선터미널', '화흥포항', '벌교공용버스터미널', '광양와인동굴', '땅끝국민관광지', '완도항3부두', '백양사역', '국립장성치유의숲', '김대중노벨평화상기념관', '디오션리조트워터파크', '메가박스여수웅천', '사우스링스영암CC카일필립스', '대광해변', '율포해수녹차온천탕', '목포자연사박물관', '나주힐스CC', '농협나주축산물공판장', '영암여객자동차터미널', '라마다여수해상짚트랙', '에콜리안영광CC', '두륜산케이블카', '방장산자연휴양림', '대한다업보성다원제1농장', '홍길동테마파크', '순천만습지갈대군락지', '장미공원', '여수세계박람회장', '전남도립미술관', '함평천지CC', '도갑사', '팔영산자연휴양림', '천사벽화마을', '땅끝모노레일', '소호요트경기장', '구봉산전망대', '대경도대합실', 'CGV목포', '여천시외버스정류장', '백련사', '가우도출렁다리', '목포어린이바다과학관', '함평천지전통시장', '백제불교최초도래지', '망덕포구', '고흥전통시장', '흥국사', '보성비봉공룡공원', '옥과기안CC', '수문해수욕장', '조금나루해변', '명량해상케이블카진도타워상부승강장', '세량제', '무슬목해변', '국립진도자연휴양림', '배알도수변공원', '곡성기차마을전통시장', '도솔암', '나주목사고을시장', '대한다원', '대원사', '만연사', '나주CC', '삼호버스종합터미널', '유달산', '섬진강대나무숲길', '광양역', '무한의다리', '용천사', '전남드래곤즈축구전용구장', '여수중앙시장', 'CGV순천', '낭도항', '무위사', '진도수산시장', '홀통해변', '순천부영CC', '자연생태공원', '4est수목원', '홀통유원지', '화순역', '백길해변', '상무대컨트리클럽', '나로도연안여객선터미널', '진도경찰수련원', '테마파크소풍', '팔영산편백치유의숲', '완도청해포구촬영장', '역전시장', '장성공용버스터미널', '국동항수변공원', '담양추억의골목', '득량역', '함평역', '가마미해수욕장', '장미의거리', '울돌목스카이워크', '한재골계곡', '백운아트홀휴관중(2024년01월02일개관예정)', '주작산자연휴양림', '느러지전망관람대', '소호동동다리', '국립해양문화재연구소', '광양5일시장', '남열해돋이해수욕장', 'CGV여수웅천', '향화도선착장', '순천만잡월드', '무안전통시장', '목포근대역사관2관', '불회사', '암태남강항여객선터미널', '순천CC', '무등산편백자연휴양림', '쉬미항', '중흥골드스파리조트워터락', '모사금해변', '테디베어뮤지엄여수', '한국대나무박물관', '백운동정원', '장도', '성산공원', '진도신비의바닷길', '영산포풍물시장', '여수엑스포컨벤션센터', '중앙시장', '중앙시장', '백바위해수욕장', '정남진장흥물축제', '죽도봉공원', '섬진강벚꽃길', '고려청자박물관', '임자도', '정도리구계등', '유달산조각공원', '옐로우출렁다리', '수만리탐방지원센터', '보성시외버스터미널', '화순고인돌전통시장', '메가박스목포하당', '녹동고속버스터미널', '여수세계박람회장스카이타워', '영암곤충박물관', '완도금일수협수산시장', '도림사', '이순신공원', '청춘창고', '갈두항', '천사대교관광안내소', '광양항컨테이너부두', '죽향CC', '구례시장', '이순신대교홍보관', '문장터미널', '가우도', '영광터미널시장', '금성관', '백야도', '백운쇼핑센터', '홍농버스터미널', '명량해상케이블카진도대교광장하부승강장', '방죽포해변', '서해지방해양경찰청숙영관', '옥곡시장', '비금가산선착장', '돌산항', '연곡사', '중앙시장', '중앙시장', '몽탄역', '수만리생태숲공원', '동가리숲속유원지', '완도항', '보림사', '순천도축장', '계마항', '신월선착장', '낙안민속자연휴양림', '유달유원지', '여수장도근린공원', '구청호시장', '광양CC', '강진시장', '목포원예농협농산물공판장', '과역시외버스터미널', '진남종합시장', '남평골프', '국립나주숲체원', '담빛예술창고', '무등산양떼목장', '청자다리', '삼학도공원', '중흥부두', '소금박물관', '산양진항', '나주영상테마파크', '운조루', '소경도대합실', '영랑생가', '피아골', '나주은행나무수목원', '법성포구', '소등섬', '약산당목대합실', '불갑저수지수변공원', '완도타워모노레일', '용마루길', '갓바위공원', '화포해변', '광양항', '순천만달밤야시장', '능가사', '마량놀토수산시장', '아이뮤지엄', '곡성버스터미널', '테테루테마파크', '송계어촌체험마을', '남악시장', '명옥헌', '황룡전통시장', '태안사', '일로역', '신북시외버스터미널', '압록상상스쿨', '여수세계박람회장해양공원', '천개의향나무숲', '영광물무산행복숲', '낙안읍성', '장보고기념관', '함평엑스포물놀이장', '해남우수영여객선임시터미널', '회진항', '도리포', '여천항', '천관산자연휴양림', '장성호', '대경도선착장', '도원선착장']\n"
     ]
    },
    {
     "data": {
      "text/plain": [
       "Text(0.5, 1.0, '전라남도 관광지 검색량')"
      ]
     },
     "execution_count": 302,
     "metadata": {},
     "output_type": "execute_result"
    },
    {
     "data": {
      "image/png": "[encoded data removed]",
      "text/plain": [
       "<Figure size 640x480 with 1 Axes>"
      ]
     },
     "metadata": {},
     "output_type": "display_data"
    }
   ],
   "source": [
    "count_num=0\n",
    "sites=[]\n",
    "rnum=[]\n",
    "\n",
    "for i in range(len(contents2)): #22'09~23'08\n",
    "   for j in range(len(contents1)): #21'09~22'08\n",
    "        if contents2['관광지명'][i]==contents1['관광지명'][j]:\n",
    "            count_num+=1\n",
    "            sites.append(contents2['관광지명'][i])\n",
    "            rnum.append(contents2['검색건수'][i])\n",
    "\n",
    "print(count_num) #451: 인기 관광지 500곳 중 451곳은 반복해서 수요가 많다.\n",
    "print(sites) #사람들이 반복해서 찾는 곳\n",
    "\n",
    "x1=np.arange(len(contents2))\n",
    "plt.scatter(x1,contents2['검색건수'])\n",
    "x2=np.arange(len(rnum))\n",
    "plt.scatter(x2,rnum,c='r')\n",
    "\n",
    "plt.xticks([])\n",
    "\n",
    "plt.ylabel('검색건수')\n",
    "plt.title('전라남도 관광지 검색량') #가는 곳(만) 또 감"
   ]
  },
  {
   "cell_type": "code",
   "execution_count": 303,
   "metadata": {},
   "outputs": [
    {
     "name": "stdout",
     "output_type": "stream",
     "text": [
      "   시/군/구     소분류 카테고리    검색건수\n",
      "0    순천시         기타관광  245254\n",
      "1    목포시         교통시설  159899\n",
      "2    담양군         자연공원  132973\n",
      "3    여수시  자연경관(하천/해양)  113284\n",
      "4    광양시          쇼핑몰  102492\n",
      "5    완도군         교통시설  101505\n",
      "6    구례군         종교성지   71502\n",
      "7    나주시         교통시설   66728\n",
      "8    고흥군  자연경관(하천/해양)   58260\n",
      "9    무안군          쇼핑몰   57042\n",
      "10   장성군         종교성지   54430\n",
      "11   곡성군         기타관광   45263\n",
      "12   보성군  자연경관(하천/해양)   39860\n",
      "13   영광군         교통시설   39224\n",
      "14   진도군  자연경관(하천/해양)   34692\n",
      "15   해남군         종교성지   27724\n",
      "16   신안군         교통시설   23194\n",
      "17   화순군      육상레저스포츠   22783\n",
      "18   영암군      육상레저스포츠   21308\n",
      "19   장흥군           시장   20611\n",
      "20   강진군         교통시설   20606\n",
      "21   함평군      육상레저스포츠   19333\n"
     ]
    }
   ],
   "source": [
    "ct2=contents2.drop_duplicates(subset=['시/군/구'])\n",
    "contents_df=ct2.drop(['중분류 카테고리','순위','관광지명','도로명주소'], axis=1).reset_index(drop=True)\n",
    "print(contents_df)"
   ]
  },
  {
   "cell_type": "code",
   "execution_count": 304,
   "metadata": {},
   "outputs": [],
   "source": [
    "visit=[]\n",
    "contents_keyword=[]\n",
    "\n",
    "for i in range(len(meal)):\n",
    "    for j in range(len(contents_df)):\n",
    "        if meal['항목'][i]==contents_df['시/군/구'][j]:\n",
    "            visit.append(contents_df['검색건수'][j])\n",
    "            contents_keyword.append(contents_df['소분류 카테고리'][j])\n",
    "\n",
    "meal['검색건수']=visit\n",
    "meal['지역_키워드']=contents_keyword"
   ]
  },
  {
   "cell_type": "code",
   "execution_count": 305,
   "metadata": {},
   "outputs": [
    {
     "name": "stderr",
     "output_type": "stream",
     "text": [
      "C:\\Users\\user\\AppData\\Local\\Temp\\ipykernel_230792\\1135694531.py:4: SettingWithCopyWarning: \n",
      "A value is trying to be set on a copy of a slice from a DataFrame\n",
      "\n",
      "See the caveats in the documentation: https://pandas.pydata.org/pandas-docs/stable/user_guide/indexing.html#returning-a-view-versus-a-copy\n",
      "  meal['음식점개수'][0]=3875\n",
      "C:\\Users\\user\\AppData\\Local\\Temp\\ipykernel_230792\\1135694531.py:5: SettingWithCopyWarning: \n",
      "A value is trying to be set on a copy of a slice from a DataFrame\n",
      "\n",
      "See the caveats in the documentation: https://pandas.pydata.org/pandas-docs/stable/user_guide/indexing.html#returning-a-view-versus-a-copy\n",
      "  meal['음식점개수'][1]=3157\n",
      "C:\\Users\\user\\AppData\\Local\\Temp\\ipykernel_230792\\1135694531.py:6: SettingWithCopyWarning: \n",
      "A value is trying to be set on a copy of a slice from a DataFrame\n",
      "\n",
      "See the caveats in the documentation: https://pandas.pydata.org/pandas-docs/stable/user_guide/indexing.html#returning-a-view-versus-a-copy\n",
      "  meal['음식점개수'][2]=2977\n",
      "C:\\Users\\user\\AppData\\Local\\Temp\\ipykernel_230792\\1135694531.py:7: SettingWithCopyWarning: \n",
      "A value is trying to be set on a copy of a slice from a DataFrame\n",
      "\n",
      "See the caveats in the documentation: https://pandas.pydata.org/pandas-docs/stable/user_guide/indexing.html#returning-a-view-versus-a-copy\n",
      "  meal['음식점개수'][3]=1974\n",
      "C:\\Users\\user\\AppData\\Local\\Temp\\ipykernel_230792\\1135694531.py:8: SettingWithCopyWarning: \n",
      "A value is trying to be set on a copy of a slice from a DataFrame\n",
      "\n",
      "See the caveats in the documentation: https://pandas.pydata.org/pandas-docs/stable/user_guide/indexing.html#returning-a-view-versus-a-copy\n",
      "  meal['음식점개수'][4]=1343\n",
      "C:\\Users\\user\\AppData\\Local\\Temp\\ipykernel_230792\\1135694531.py:9: SettingWithCopyWarning: \n",
      "A value is trying to be set on a copy of a slice from a DataFrame\n",
      "\n",
      "See the caveats in the documentation: https://pandas.pydata.org/pandas-docs/stable/user_guide/indexing.html#returning-a-view-versus-a-copy\n",
      "  meal['음식점개수'][5]=1016\n"
     ]
    }
   ],
   "source": [
    "meal_columns=['항목','음식점개수','경도','위도','검색건수','지역키워드']\n",
    "meal.columns=meal_columns\n",
    "\n",
    "meal['음식점개수'][0]=3875\n",
    "meal['음식점개수'][1]=3157\n",
    "meal['음식점개수'][2]=2977\n",
    "meal['음식점개수'][3]=1974\n",
    "meal['음식점개수'][4]=1343\n",
    "meal['음식점개수'][5]=1016"
   ]
  },
  {
   "cell_type": "code",
   "execution_count": 306,
   "metadata": {},
   "outputs": [
    {
     "name": "stdout",
     "output_type": "stream",
     "text": [
      "     항목 음식점개수          경도         위도    검색건수        지역키워드  관광지\n",
      "0   여수시  3875  127.662222  34.760374  113284  자연경관(하천/해양)   76\n",
      "1   순천시  3157  127.483333  34.950000  245254         기타관광   41\n",
      "2   목포시  2977  126.350000  34.766667  159899         교통시설   40\n",
      "3   광양시  1974  127.695501  34.940548  102492          쇼핑몰   26\n",
      "4   나주시  1343  126.716667  35.033333   66728         교통시설   25\n",
      "5   무안군  1016  126.481686  34.990454   57042          쇼핑몰   19\n",
      "6   해남군   798  126.598927  34.573252   27724         종교성지   25\n",
      "7   영암군   696  126.696792  34.800169   21308      육상레저스포츠   12\n",
      "8   고흥군   689  127.284978  34.611222   58260  자연경관(하천/해양)   16\n",
      "9   화순군   654  126.986480  35.064503   22783      육상레저스포츠   23\n",
      "10  완도군   610  126.755054  34.311060  101505         교통시설   18\n",
      "11  담양군   586  126.988167  35.321139  132973         자연공원   23\n",
      "12  영광군   582  126.511987  35.277172   39224         교통시설   21\n",
      "13  보성군   494  127.079894  34.771456   39860  자연경관(하천/해양)   16\n",
      "14  장성군   476  126.784854  35.301833   54430         종교성지   18\n",
      "15  장흥군   444  126.906928  34.681686   20611           시장   13\n",
      "16  강진군   434  126.767261  34.642077   20606         교통시설   17\n",
      "17  구례군   419  127.462653  35.202495   71502         종교성지   18\n",
      "18  신안군   385  126.101074  34.827332   23194         교통시설   14\n",
      "19  진도군   376  126.243148  34.460868   34692  자연경관(하천/해양)   16\n",
      "20  곡성군   314  127.291918  35.281955   45263         기타관광   11\n",
      "21  함평군   298  126.516552  35.065940   19333      육상레저스포츠   12\n"
     ]
    }
   ],
   "source": [
    "meal['관광지']=[76,41,40,26,25,19,25,12,16,23,18,\n",
    "                        23,21,16,18,13,17,18,14,16,11,12]\n",
    "print(meal)"
   ]
  },
  {
   "cell_type": "code",
   "execution_count": 307,
   "metadata": {},
   "outputs": [],
   "source": [
    "a_index=attract_df['지역']\n",
    "m_index=meal['항목']\n",
    "\n",
    "calmness=[]\n",
    "accommodation=[]\n",
    "cafeteria=[]\n",
    "\n",
    "entranger_avg=[]\n",
    "entranger_diff=[]\n",
    "aborigene_avg=[]\n",
    "aborigene_diff=[]\n",
    "\n",
    "\n",
    "for i in range(len(meal)):\n",
    "    for j in range(len(attract_df)):\n",
    "        if m_index[i]==a_index[j]:\n",
    "            calmness.append(attract_df['비대면지수'][j])\n",
    "            accommodation.append(attract_df['숙소개수'][j])\n",
    "            cafeteria.append(attract_df['카페개수'][j])\n",
    "            aborigene_avg.append(attract_df['현지인_평균'][j])\n",
    "            aborigene_diff.append(attract_df['현지인_변화량'][j])\n",
    "            entranger_avg.append(attract_df['외지인_평균'][j])\n",
    "            entranger_diff.append(attract_df['외지인_변화량'][j])\n",
    "        else:\n",
    "            continue\n",
    "\n",
    "\n",
    "meal['비대면지수']=calmness\n",
    "meal['숙소개수']=accommodation\n",
    "meal['카페개수']=cafeteria\n",
    "\n",
    "meal['현지인_평균']=aborigene_avg\n",
    "meal['현지인_변화량']=aborigene_diff\n",
    "\n",
    "meal['외지인_평균']=entranger_avg\n",
    "meal['외지인_변화량']=entranger_diff\n",
    "\n",
    "meal['음식점개수']=meal['음식점개수'].astype('int64')"
   ]
  },
  {
   "cell_type": "code",
   "execution_count": 308,
   "metadata": {},
   "outputs": [
    {
     "name": "stdout",
     "output_type": "stream",
     "text": [
      "<class 'pandas.core.frame.DataFrame'>\n",
      "RangeIndex: 22 entries, 0 to 21\n",
      "Data columns (total 15 columns):\n",
      " #   Column   Non-Null Count  Dtype  \n",
      "---  ------   --------------  -----  \n",
      " 0   항목       22 non-null     object \n",
      " 1   음식점개수    22 non-null     int64  \n",
      " 2   경도       22 non-null     float64\n",
      " 3   위도       22 non-null     float64\n",
      " 4   검색건수     22 non-null     int64  \n",
      " 5   지역키워드    22 non-null     object \n",
      " 6   관광지      22 non-null     int64  \n",
      " 7   비대면지수    22 non-null     float64\n",
      " 8   숙소개수     22 non-null     int64  \n",
      " 9   카페개수     22 non-null     int64  \n",
      " 10  현지인_평균   22 non-null     float64\n",
      " 11  현지인_변화량  22 non-null     float64\n",
      " 12  외지인_평균   22 non-null     float64\n",
      " 13  외지인_변화량  22 non-null     float64\n",
      " 14  최종점수     22 non-null     int64  \n",
      "dtypes: float64(7), int64(6), object(2)\n",
      "memory usage: 2.7+ KB\n",
      "None\n"
     ]
    }
   ],
   "source": [
    "#실제 평가된 지역의 워케이션 점수 추가\n",
    "prof_score=[5,4,3,0,0,0,0,0,2,0,0,0,0,2,0,0,0,0,2,0,0,0]\n",
    "meal['최종점수']=prof_score\n",
    "print(meal.info())"
   ]
  },
  {
   "cell_type": "markdown",
   "metadata": {},
   "source": [
    "# 특성 스케일링(표준화)\n",
    "\n",
    ": 항목 마다 값이 크게 차이 나서 이상치에 영향 덜 받는 표준화 선택"
   ]
  },
  {
   "cell_type": "code",
   "execution_count": 309,
   "metadata": {},
   "outputs": [
    {
     "name": "stdout",
     "output_type": "stream",
     "text": [
      "       1       4   6           7    8     9           10         11  \\\n",
      "0                                                                     \n",
      "여수시  3875  113284  76   49.405687  143  1179  54737364.5  4424665.0   \n",
      "순천시  3157  245254  41   43.061186   70   860  60239103.5  4817389.0   \n",
      "목포시  2977  159899  40   41.232053  268  1226  61463293.0  4834018.0   \n",
      "광양시  1974  102492  26   49.087961   44   416  27746306.0  2652488.0   \n",
      "나주시  1343   66728  25   62.008706   52   563  26343338.0  1961084.0   \n",
      "무안군  1016   57042  19   79.961388   17   121  18673130.0  3486328.0   \n",
      "해남군   798   27724  25   73.605863   25   139  11987260.5   551001.0   \n",
      "영암군   696   21308  12   80.345210   20   136  12958970.5   790699.0   \n",
      "고흥군   689   58260  16   69.595750   28   260   9776511.5  1026949.0   \n",
      "화순군   654   22783  23   84.238047   27   167  14853480.0   853464.0   \n",
      "완도군   610  101505  18   52.339439   11    85  11297261.0   887166.0   \n",
      "담양군   586  132973  23  164.141395   43   366   9472426.5   965485.0   \n",
      "영광군   582   39224  21   62.530661   17   112  11707580.5  1037729.0   \n",
      "보성군   494   39860  16   98.632132   27   193   7201938.0   680620.0   \n",
      "장성군   476   54430  18  124.785514   13    96   8304756.0   661132.0   \n",
      "장흥군   444   20611  13   58.054895   27   154   9099501.5   684541.0   \n",
      "강진군   434   20606  17   70.229029   26   146   8060236.0   403176.0   \n",
      "구례군   419   71502  18  117.905852   37   261   5052521.5   505985.0   \n",
      "신안군   385   23194  14  122.562591    7    61   5654231.0   741114.0   \n",
      "진도군   376   34692  16   90.278926    9    83   5544058.0   540348.0   \n",
      "곡성군   314   45263  11  111.218072   39   264   5125011.5   247975.0   \n",
      "함평군   298   19333  12  136.376471   17   120   4711705.0   313198.0   \n",
      "\n",
      "             12         13  15  16  17  18  19  20  21  22  \n",
      "0                                                           \n",
      "여수시  27043371.0   860290.0   0   0   0   0   0   1   0   0  \n",
      "순천시  25939672.5  2755781.0   0   1   0   0   0   0   0   0  \n",
      "목포시  25342577.5  1375735.0   1   0   0   0   0   0   0   0  \n",
      "광양시  13620096.0   583696.0   0   0   1   0   0   0   0   0  \n",
      "나주시  16335163.0    37614.0   1   0   0   0   0   0   0   0  \n",
      "무안군  14931294.0   952188.0   0   0   1   0   0   0   0   0  \n",
      "해남군   8823326.5   419717.0   0   0   0   0   0   0   0   1  \n",
      "영암군  10411912.0   376544.0   0   0   0   0   1   0   0   0  \n",
      "고흥군   6804036.5   -21535.0   0   0   0   0   0   1   0   0  \n",
      "화순군  12512281.5   545023.0   0   0   0   0   1   0   0   0  \n",
      "완도군   5912923.0    93678.0   1   0   0   0   0   0   0   0  \n",
      "담양군  15548173.0   580902.0   0   0   0   0   0   0   1   0  \n",
      "영광군   7320827.5   143647.0   1   0   0   0   0   0   0   0  \n",
      "보성군   7103425.0   468294.0   0   0   0   0   0   1   0   0  \n",
      "장성군  10363132.5   783153.0   0   0   0   0   0   0   0   1  \n",
      "장흥군   5282706.0   319140.0   0   0   0   1   0   0   0   0  \n",
      "강진군   5660625.5   239599.0   1   0   0   0   0   0   0   0  \n",
      "구례군   5957218.5   465727.0   0   0   0   0   0   0   0   1  \n",
      "신안군   6929972.0   143676.0   1   0   0   0   0   0   0   0  \n",
      "진도군   5005116.0   177324.0   0   0   0   0   0   1   0   0  \n",
      "곡성군   5699939.0   456798.0   0   1   0   0   0   0   0   0  \n",
      "함평군   6425657.0   367864.0   0   0   0   0   1   0   0   0  \n"
     ]
    }
   ],
   "source": [
    "ck=pd.get_dummies(contents_keyword,dtype='int64') #지역별 키워드를 원핫 인코딩\n",
    "feat_df=pd.concat([meal,ck],axis=1,ignore_index=True)\n",
    "feat_df.drop([2,3,5,14],axis=1,inplace=True)\n",
    "feat_df=feat_df.set_index([0])\n",
    "#특성 스케일링용 데이터 프레임\n",
    "\n",
    "print(feat_df)"
   ]
  },
  {
   "cell_type": "code",
   "execution_count": 310,
   "metadata": {},
   "outputs": [
    {
     "name": "stdout",
     "output_type": "stream",
     "text": [
      "<class 'pandas.core.frame.DataFrame'>\n",
      "RangeIndex: 22 entries, 0 to 21\n",
      "Data columns (total 18 columns):\n",
      " #   Column       Non-Null Count  Dtype  \n",
      "---  ------       --------------  -----  \n",
      " 0   음식점          22 non-null     float64\n",
      " 1   검색건수         22 non-null     float64\n",
      " 2   관광지          22 non-null     float64\n",
      " 3   비대면지수        22 non-null     float64\n",
      " 4   숙소개수         22 non-null     float64\n",
      " 5   카페개수         22 non-null     float64\n",
      " 6   현지인_평균       22 non-null     float64\n",
      " 7   현지인_변화량      22 non-null     float64\n",
      " 8   외지인_평균       22 non-null     float64\n",
      " 9   외지인_변화량      22 non-null     float64\n",
      " 10  교통시설         22 non-null     float64\n",
      " 11  기타관광         22 non-null     float64\n",
      " 12  쇼핑몰          22 non-null     float64\n",
      " 13  시장           22 non-null     float64\n",
      " 14  육상레저스포츠      22 non-null     float64\n",
      " 15  자연경관(하천/해양)  22 non-null     float64\n",
      " 16  자연공원         22 non-null     float64\n",
      " 17  종교성지         22 non-null     float64\n",
      "dtypes: float64(18)\n",
      "memory usage: 3.2 KB\n",
      "None\n"
     ]
    }
   ],
   "source": [
    "scaler=StandardScaler()\n",
    "\n",
    "f_df=pd.DataFrame(scaler.fit_transform(feat_df),\n",
    "                  columns=['음식점','검색건수','관광지','비대면지수',\n",
    "                           '숙소개수','카페개수','현지인_평균','현지인_변화량',\n",
    "                           '외지인_평균','외지인_변화량',\n",
    "                           '교통시설','기타관광','쇼핑몰','시장',\n",
    "                            '육상레저스포츠','자연경관(하천/해양)','자연공원','종교성지'])\n",
    "print(f_df.info())"
   ]
  },
  {
   "cell_type": "code",
   "execution_count": 311,
   "metadata": {},
   "outputs": [],
   "source": [
    "x_for_rg=f_df.iloc[[0,1,2,8,13,18]]\n",
    "y_for_rg=[prof_score[0],prof_score[1],prof_score[2],\n",
    "          prof_score[8],prof_score[13],prof_score[18]]"
   ]
  },
  {
   "cell_type": "code",
   "execution_count": 312,
   "metadata": {},
   "outputs": [
    {
     "data": {
      "text/html": [
       "<style>#sk-container-id-8 {color: black;background-color: white;}#sk-container-id-8 pre{padding: 0;}#sk-container-id-8 div.sk-toggleable {background-color: white;}#sk-container-id-8 label.sk-toggleable__label {cursor: pointer;display: block;width: 100%;margin-bottom: 0;padding: 0.3em;box-sizing: border-box;text-align: center;}#sk-container-id-8 label.sk-toggleable__label-arrow:before {content: \"▸\";float: left;margin-right: 0.25em;color: #696969;}#sk-container-id-8 label.sk-toggleable__label-arrow:hover:before {color: black;}#sk-container-id-8 div.sk-estimator:hover label.sk-toggleable__label-arrow:before {color: black;}#sk-container-id-8 div.sk-toggleable__content {max-height: 0;max-width: 0;overflow: hidden;text-align: left;background-color: #f0f8ff;}#sk-container-id-8 div.sk-toggleable__content pre {margin: 0.2em;color: black;border-radius: 0.25em;background-color: #f0f8ff;}#sk-container-id-8 input.sk-toggleable__control:checked~div.sk-toggleable__content {max-height: 200px;max-width: 100%;overflow: auto;}#sk-container-id-8 input.sk-toggleable__control:checked~label.sk-toggleable__label-arrow:before {content: \"▾\";}#sk-container-id-8 div.sk-estimator input.sk-toggleable__control:checked~label.sk-toggleable__label {background-color: #d4ebff;}#sk-container-id-8 div.sk-label input.sk-toggleable__control:checked~label.sk-toggleable__label {background-color: #d4ebff;}#sk-container-id-8 input.sk-hidden--visually {border: 0;clip: rect(1px 1px 1px 1px);clip: rect(1px, 1px, 1px, 1px);height: 1px;margin: -1px;overflow: hidden;padding: 0;position: absolute;width: 1px;}#sk-container-id-8 div.sk-estimator {font-family: monospace;background-color: #f0f8ff;border: 1px dotted black;border-radius: 0.25em;box-sizing: border-box;margin-bottom: 0.5em;}#sk-container-id-8 div.sk-estimator:hover {background-color: #d4ebff;}#sk-container-id-8 div.sk-parallel-item::after {content: \"\";width: 100%;border-bottom: 1px solid gray;flex-grow: 1;}#sk-container-id-8 div.sk-label:hover label.sk-toggleable__label {background-color: #d4ebff;}#sk-container-id-8 div.sk-serial::before {content: \"\";position: absolute;border-left: 1px solid gray;box-sizing: border-box;top: 0;bottom: 0;left: 50%;z-index: 0;}#sk-container-id-8 div.sk-serial {display: flex;flex-direction: column;align-items: center;background-color: white;padding-right: 0.2em;padding-left: 0.2em;position: relative;}#sk-container-id-8 div.sk-item {position: relative;z-index: 1;}#sk-container-id-8 div.sk-parallel {display: flex;align-items: stretch;justify-content: center;background-color: white;position: relative;}#sk-container-id-8 div.sk-item::before, #sk-container-id-8 div.sk-parallel-item::before {content: \"\";position: absolute;border-left: 1px solid gray;box-sizing: border-box;top: 0;bottom: 0;left: 50%;z-index: -1;}#sk-container-id-8 div.sk-parallel-item {display: flex;flex-direction: column;z-index: 1;position: relative;background-color: white;}#sk-container-id-8 div.sk-parallel-item:first-child::after {align-self: flex-end;width: 50%;}#sk-container-id-8 div.sk-parallel-item:last-child::after {align-self: flex-start;width: 50%;}#sk-container-id-8 div.sk-parallel-item:only-child::after {width: 0;}#sk-container-id-8 div.sk-dashed-wrapped {border: 1px dashed gray;margin: 0 0.4em 0.5em 0.4em;box-sizing: border-box;padding-bottom: 0.4em;background-color: white;}#sk-container-id-8 div.sk-label label {font-family: monospace;font-weight: bold;display: inline-block;line-height: 1.2em;}#sk-container-id-8 div.sk-label-container {text-align: center;}#sk-container-id-8 div.sk-container {/* jupyter's `normalize.less` sets `[hidden] { display: none; }` but bootstrap.min.css set `[hidden] { display: none !important; }` so we also need the `!important` here to be able to override the default hidden behavior on the sphinx rendered scikit-learn.org. See: https://github.com/scikit-learn/scikit-learn/issues/21755 */display: inline-block !important;position: relative;}#sk-container-id-8 div.sk-text-repr-fallback {display: none;}</style><div id=\"sk-container-id-8\" class=\"sk-top-container\"><div class=\"sk-text-repr-fallback\"><pre>LinearRegression()</pre><b>In a Jupyter environment, please rerun this cell to show the HTML representation or trust the notebook. <br />On GitHub, the HTML representation is unable to render, please try loading this page with nbviewer.org.</b></div><div class=\"sk-container\" hidden><div class=\"sk-item\"><div class=\"sk-estimator sk-toggleable\"><input class=\"sk-toggleable__control sk-hidden--visually\" id=\"sk-estimator-id-8\" type=\"checkbox\" checked><label for=\"sk-estimator-id-8\" class=\"sk-toggleable__label sk-toggleable__label-arrow\">LinearRegression</label><div class=\"sk-toggleable__content\"><pre>LinearRegression()</pre></div></div></div></div></div>"
      ],
      "text/plain": [
       "LinearRegression()"
      ]
     },
     "execution_count": 312,
     "metadata": {},
     "output_type": "execute_result"
    }
   ],
   "source": [
    "lr=LinearRegression()\n",
    "lr.fit(x_for_rg,y_for_rg)"
   ]
  },
  {
   "cell_type": "code",
   "execution_count": 313,
   "metadata": {},
   "outputs": [
    {
     "name": "stdout",
     "output_type": "stream",
     "text": [
      "[5, 4, 3, 2.7839097623799107, 2.6321717964728, 2.5555490361182374, 2.373796613451575, 2.033896230603917, 2, 2.4141394683395068, 1.919363163328275, 2.5311152237202084, 2.111052427335059, 2, 2.2429600916645995, 1.7851132327883783, 1.8628671656519815, 2.011531223953975, 2, 1.962753611495183, 1.956941553881573, 1.951961440265446]\n"
     ]
    }
   ],
   "source": [
    "for i in range(len(prof_score)):\n",
    "    if prof_score[i]==0:\n",
    "        prof_score[i]=float(lr.predict(f_df.iloc[[i]]))\n",
    "    else:\n",
    "        continue\n",
    "\n",
    "print(prof_score)"
   ]
  },
  {
   "cell_type": "code",
   "execution_count": 314,
   "metadata": {},
   "outputs": [
    {
     "data": {
      "image/png": "[encoded data removed]",
      "text/plain": [
       "<Figure size 640x480 with 2 Axes>"
      ]
     },
     "metadata": {},
     "output_type": "display_data"
    }
   ],
   "source": [
    "plt.scatter(meal['경도'],meal['위도'],\n",
    "            s= 100,c=prof_score,cmap='coolwarm')\n",
    "\n",
    "plt.colorbar(label='점수')\n",
    "\n",
    "plt.show()"
   ]
  },
  {
   "cell_type": "markdown",
   "metadata": {},
   "source": [
    "# 주성분 분석\n",
    "데이터의 개수가 매우 적다(22개)는 점 고려해 데이터셋을 대표하는 주성분 추출"
   ]
  },
  {
   "cell_type": "code",
   "execution_count": 315,
   "metadata": {},
   "outputs": [
    {
     "data": {
      "image/png": "[encoded data removed]",
      "text/plain": [
       "<Figure size 640x480 with 1 Axes>"
      ]
     },
     "metadata": {},
     "output_type": "display_data"
    }
   ],
   "source": [
    "pca = PCA(n_components=None)\n",
    "pca.fit(f_df)\n",
    "\n",
    "exp_var = pca.explained_variance_ratio_ * 100 #해당 주성분으로 설명되는 분산 비율\n",
    "cum_exp_var = np.cumsum(exp_var) #누적 (설명가능) 비율\n",
    "\n",
    "plt.bar(range(1,19), exp_var, align='center',\n",
    "        label='Individual explained variance')\n",
    "\n",
    "plt.step(range(1,19), cum_exp_var, where='mid',\n",
    "         label='Cumulative explained variance', color='red')\n",
    "\n",
    "plt.ylabel('Explained variance percentage')\n",
    "plt.xlabel('Principal component index')\n",
    "plt.xticks(ticks=list(range(1,19)))\n",
    "plt.legend(loc=5)\n",
    "plt.tight_layout()"
   ]
  },
  {
   "cell_type": "code",
   "execution_count": 316,
   "metadata": {},
   "outputs": [],
   "source": [
    "#(누적)설명 정도가 약 90%에 이르는 7개 선택\n",
    "pca=PCA(n_components=7)\n",
    "x_pca=pca.fit_transform(f_df)"
   ]
  },
  {
   "cell_type": "code",
   "execution_count": 318,
   "metadata": {},
   "outputs": [
    {
     "data": {
      "text/plain": [
       "Text(0.5, 1.0, '적용 전')"
      ]
     },
     "execution_count": 318,
     "metadata": {},
     "output_type": "execute_result"
    },
    {
     "data": {
      "image/png": "[encoded data removed]",
      "text/plain": [
       "<Figure size 640x480 with 2 Axes>"
      ]
     },
     "metadata": {},
     "output_type": "display_data"
    }
   ],
   "source": [
    "plt.scatter(np.arange(len(meal)), meal['비대면지수'], \n",
    "                s=100, c=prof_score, cmap='viridis', alpha=0.5)\n",
    "plt.colorbar(shrink=0.5,label='평가 점수')\n",
    "plt.ylabel('비대면 지수')\n",
    "plt.xticks([])\n",
    "plt.title('적용 전')\n",
    "\n",
    "#색이 밝을수록 유력 지역인데, PCA 적용 전에는\n",
    "# 1) 패턴이 무분별하게 나타나며(어떤 질서가 관찰되지 않는다)\n",
    "# 2) 비대면 지수가 낮을수록 높은 점수를 받았는데, 이는 선행연구의 분석과 대조됨."
   ]
  },
  {
   "cell_type": "code",
   "execution_count": 330,
   "metadata": {},
   "outputs": [
    {
     "data": {
      "image/png": "[encoded data removed]",
      "text/plain": [
       "<Figure size 640x480 with 2 Axes>"
      ]
     },
     "metadata": {},
     "output_type": "display_data"
    }
   ],
   "source": [
    "plt.scatter(x_pca[:,0], x_pca[:,1], \n",
    "                s=100, c=prof_score, cmap='viridis', alpha=0.5)\n",
    "plt.colorbar(shrink=0.5,label='평가 점수')\n",
    "plt.xlabel('주성분 1')\n",
    "plt.ylabel('주성분 2')\n",
    "plt.show()"
   ]
  },
  {
   "cell_type": "code",
   "execution_count": 326,
   "metadata": {},
   "outputs": [
    {
     "data": {
      "text/plain": [
       "<matplotlib.collections.PathCollection at 0x1ee4f245810>"
      ]
     },
     "execution_count": 326,
     "metadata": {},
     "output_type": "execute_result"
    },
    {
     "data": {
      "image/png": "[encoded data removed]",
      "text/plain": [
       "<Figure size 640x480 with 1 Axes>"
      ]
     },
     "metadata": {},
     "output_type": "display_data"
    }
   ],
   "source": [
    "lr_final=lr.fit(x_pca,prof_score)\n",
    "plt.scatter(x_pca[:,0],prof_score,c=prof_score)"
   ]
  },
  {
   "cell_type": "markdown",
   "metadata": {},
   "source": [
    "# MCLP"
   ]
  },
  {
   "cell_type": "code",
   "execution_count": null,
   "metadata": {},
   "outputs": [],
   "source": [
    "#import mcpl"
   ]
  },
  {
   "cell_type": "code",
   "execution_count": null,
   "metadata": {},
   "outputs": [],
   "source": [
    "coord_mclp=tour_df.loc[:,['경도','위도']].copy().reset_index()\n",
    "pca_df=pd.DataFrame(x_pca)"
   ]
  },
  {
   "cell_type": "code",
   "execution_count": null,
   "metadata": {},
   "outputs": [],
   "source": [
    "pca_df_fr=pca_df.copy()\n",
    "final_df=pd.concat([coord_mclp,pca_df],axis=1)"
   ]
  },
  {
   "cell_type": "code",
   "execution_count": null,
   "metadata": {},
   "outputs": [],
   "source": [
    "print(final_df)"
   ]
  },
  {
   "cell_type": "code",
   "execution_count": null,
   "metadata": {},
   "outputs": [],
   "source": []
  },
  {
   "cell_type": "markdown",
   "metadata": {},
   "source": [
    "시각화"
   ]
  },
  {
   "cell_type": "code",
   "execution_count": null,
   "metadata": {},
   "outputs": [],
   "source": [
    "xmin=min(coord_std['경도'])\n",
    "xmax=max(coord_std['경도'])\n",
    "ymin=min(coord_std['위도'])\n",
    "ymax=max(coord_std['위도'])"
   ]
  },
  {
   "cell_type": "code",
   "execution_count": null,
   "metadata": {},
   "outputs": [],
   "source": [
    "coord_std.dropna(axis=0)\n",
    "dong=pd.DataFrame(coord_std['시군구'].value_counts())\n",
    "\n",
    "d_index=dong.index\n",
    "d_num=[]\n",
    "\n",
    "for i in range(len(tour_df)):\n",
    "    for j in range(len(dong)):\n",
    "        if t_index[i]==d_index[j]:\n",
    "            d_num.append(dong['count'][j])"
   ]
  },
  {
   "cell_type": "code",
   "execution_count": null,
   "metadata": {},
   "outputs": [],
   "source": [
    "#숙소유형\n",
    "plt.scatter(x=accomm_df['경도'],y=accomm_df['위도'],alpha=0.1,label='숙소')\n",
    "\n",
    "plt.scatter(x=cafe['경도'],y=cafe['위도'],alpha=0.1,label='카페')\n",
    "\n",
    "plt.xlim(xmin,xmax)\n",
    "plt.ylim(ymin,ymax)\n",
    "\n",
    "plt.legend()\n",
    "\n",
    "plt.show() "
   ]
  }
 ],
 "metadata": {
  "kernelspec": {
   "display_name": "Python 3",
   "language": "python",
   "name": "python3"
  },
  "language_info": {
   "codemirror_mode": {
    "name": "ipython",
    "version": 3
   },
   "file_extension": ".py",
   "mimetype": "text/x-python",
   "name": "python",
   "nbconvert_exporter": "python",
   "pygments_lexer": "ipython3",
   "version": "3.10.6"
  }
 },
 "nbformat": 4,
 "nbformat_minor": 2
}
