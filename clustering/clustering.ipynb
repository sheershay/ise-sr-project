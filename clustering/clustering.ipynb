{
 "cells": [
  {
   "cell_type": "code",
   "execution_count": 50,
   "metadata": {},
   "outputs": [],
   "source": [
    "import numpy as np\n",
    "import pandas as pd\n",
    "import matplotlib.pyplot as plt\n",
    "import seaborn as sns\n",
    "\n",
    "from pyproj import Proj, transform\n",
    "\n",
    "plt.rcParams['font.family'] = 'Malgun Gothic'"
   ]
  },
  {
   "cell_type": "code",
   "execution_count": 51,
   "metadata": {},
   "outputs": [],
   "source": [
    "#기본 정보\n",
    "coord_std=pd.read_excel('./기본정보_위경도.xlsx')\n",
    "\n",
    "#숙박 유형\n",
    "pension=pd.read_excel(\"./숙박유형_관광펜션업.xlsx\")\n",
    "camping=pd.read_excel(\"./숙박유형_일반야영장업.xlsx\")\n",
    "hanok=pd.read_excel(\"./숙박유형_한옥체험업.xlsx\")\n",
    "resort=pd.read_excel(\"./숙박유형_호텔리조트.xlsx\") \n",
    "\n",
    "#비대면\n",
    "alien1=pd.read_csv('./비대면_외지인방문자수_1.csv',encoding='cp949')\n",
    "alien2=pd.read_csv('./비대면_외지인방문자수_2.csv',encoding='cp949')\n",
    "resider1=pd.read_csv('./비대면_현지인방문자수_1.csv',encoding='cp949')\n",
    "resider2=pd.read_csv('./비대면_현지인방문자수_2.csv',encoding='cp949')\n",
    "\n",
    "#식음및부대시설\n",
    "meal=pd.read_csv('./부대시설_음식점.csv',encoding='cp949')\n",
    "cafe=pd.read_csv('./부대시설_휴게음식점.csv',encoding='utf-8')\n",
    "\n",
    "#콘텐츠\n",
    "contents1=pd.read_csv('./콘텐츠_관광지_검색순위_상.csv',encoding='cp949')\n",
    "contents2=pd.read_csv('./콘텐츠_관광지_검색순위_하.csv',encoding='cp949')"
   ]
  },
  {
   "cell_type": "markdown",
   "metadata": {},
   "source": [
    "숙박유형"
   ]
  },
  {
   "cell_type": "code",
   "execution_count": 52,
   "metadata": {},
   "outputs": [],
   "source": [
    "def accomm_preprocess(accomm):\n",
    "    accomm.drop(accomm[(accomm['영업상태구분코드']!=1)].index,inplace=True)\n",
    "    accomm=accomm[accomm['개방자치단체코드'].between(4800000,5010000)]\n",
    "    accomm=accomm.loc[:,['개방자치단체코드','좌표정보(X)','좌표정보(Y)']]\n",
    "    return accomm\n",
    "\n",
    "ps_1=accomm_preprocess(pension)\n",
    "cp_1=accomm_preprocess(camping)\n",
    "hk_1=accomm_preprocess(hanok)\n",
    "rs_1=accomm_preprocess(resort)"
   ]
  },
  {
   "cell_type": "code",
   "execution_count": 53,
   "metadata": {},
   "outputs": [
    {
     "name": "stderr",
     "output_type": "stream",
     "text": [
      "c:\\Users\\user\\AppData\\Local\\Programs\\Python\\Python310\\lib\\site-packages\\pyproj\\crs\\crs.py:141: FutureWarning: '+init=<authority>:<code>' syntax is deprecated. '<authority>:<code>' is the preferred initialization method. When making the change, be mindful of axis order changes: https://pyproj4.github.io/pyproj/stable/gotchas.html#axis-order-changes-in-proj-6\n",
      "  in_crs_string = _prepare_from_proj_string(in_crs_string)\n",
      "c:\\Users\\user\\AppData\\Local\\Programs\\Python\\Python310\\lib\\site-packages\\pyproj\\crs\\crs.py:141: FutureWarning: '+init=<authority>:<code>' syntax is deprecated. '<authority>:<code>' is the preferred initialization method. When making the change, be mindful of axis order changes: https://pyproj4.github.io/pyproj/stable/gotchas.html#axis-order-changes-in-proj-6\n",
      "  in_crs_string = _prepare_from_proj_string(in_crs_string)\n",
      "C:\\Users\\user\\AppData\\Local\\Temp\\ipykernel_135128\\985871408.py:5: FutureWarning: This function is deprecated. See: https://pyproj4.github.io/pyproj/stable/gotchas.html#upgrading-to-pyproj-2-from-pyproj-1\n",
      "  convert = transform(proj_1, proj_2, acco['좌표정보(X)'].values, acco['좌표정보(Y)'].values)\n",
      "C:\\Users\\user\\AppData\\Local\\Temp\\ipykernel_135128\\985871408.py:5: FutureWarning: This function is deprecated. See: https://pyproj4.github.io/pyproj/stable/gotchas.html#upgrading-to-pyproj-2-from-pyproj-1\n",
      "  convert = transform(proj_1, proj_2, acco['좌표정보(X)'].values, acco['좌표정보(Y)'].values)\n",
      "C:\\Users\\user\\AppData\\Local\\Temp\\ipykernel_135128\\985871408.py:5: FutureWarning: This function is deprecated. See: https://pyproj4.github.io/pyproj/stable/gotchas.html#upgrading-to-pyproj-2-from-pyproj-1\n",
      "  convert = transform(proj_1, proj_2, acco['좌표정보(X)'].values, acco['좌표정보(Y)'].values)\n",
      "C:\\Users\\user\\AppData\\Local\\Temp\\ipykernel_135128\\985871408.py:5: FutureWarning: This function is deprecated. See: https://pyproj4.github.io/pyproj/stable/gotchas.html#upgrading-to-pyproj-2-from-pyproj-1\n",
      "  convert = transform(proj_1, proj_2, acco['좌표정보(X)'].values, acco['좌표정보(Y)'].values)\n"
     ]
    }
   ],
   "source": [
    "proj_1 = Proj(init='epsg:2097')\n",
    "proj_2 = Proj(init='epsg:4326')\n",
    "\n",
    "def coordinate_transform(acco):\n",
    "    convert = transform(proj_1, proj_2, acco['좌표정보(X)'].values, acco['좌표정보(Y)'].values)\n",
    "    acco['경도'] = convert[0]\n",
    "    acco['위도'] = convert[1]\n",
    "    return acco\n",
    "\n",
    "ps=coordinate_transform(ps_1)\n",
    "cp=coordinate_transform(cp_1)\n",
    "hk=coordinate_transform(hk_1)\n",
    "rs=coordinate_transform(rs_1)"
   ]
  },
  {
   "cell_type": "code",
   "execution_count": null,
   "metadata": {},
   "outputs": [],
   "source": [
    "accomm_df=pd.concat([ps,cp,hk,rs],ignore_index=True)\n",
    "accomm_df.drop(['좌표정보(X)','좌표정보(Y)'],axis=1,inplace=True)"
   ]
  },
  {
   "cell_type": "code",
   "execution_count": 54,
   "metadata": {},
   "outputs": [
    {
     "name": "stdout",
     "output_type": "stream",
     "text": [
      "22\n"
     ]
    }
   ],
   "source": [
    "accomm_num=accomm_df.dropna(axis=0)\n",
    "acco_n=accomm_num['개방자치단체코드'].value_counts() #지역별 숙소 개수\n",
    "print(len(acco_n))"
   ]
  },
  {
   "cell_type": "markdown",
   "metadata": {},
   "source": [
    "부대시설"
   ]
  },
  {
   "cell_type": "code",
   "execution_count": 70,
   "metadata": {},
   "outputs": [],
   "source": [
    "#카페\n",
    "def cafe_preprocess(cafe):\n",
    "    cafe.drop(cafe[(cafe['영업상태명']!='영업/정상')].index,inplace=True)\n",
    "    cafe=cafe.loc[:,['소재지전체주소','좌표정보(X)','좌표정보(Y)']]\n",
    "    cafe.dropna(axis=0,inplace=True)\n",
    "    return cafe\n",
    "\n",
    "cafe_df=cafe_preprocess(cafe)\n",
    "#cafe_regions=cafe['소재지전체주소'].copy()\n",
    "\n",
    "# c_r=[]\n",
    "# for i in range(len(cafe_regions)):\n",
    "#     c_r.append(cafe_regions[i][4])"
   ]
  },
  {
   "cell_type": "code",
   "execution_count": 79,
   "metadata": {},
   "outputs": [
    {
     "name": "stdout",
     "output_type": "stream",
     "text": [
      "소재지전체주소\n",
      " 순천시     1226\n",
      " 여수시     1179\n",
      " 목포시      860\n",
      " 광양시      563\n",
      " 나주시      416\n",
      " 무안군      366\n",
      " 담양군      264\n",
      " 화순군      261\n",
      " 해남군      260\n",
      " 완도군      193\n",
      " 영암군      167\n",
      " 고흥군      154\n",
      " 장성군      146\n",
      " 영광군      139\n",
      " 장흥군      136\n",
      " 강진군      121\n",
      " 보성군      120\n",
      " 구례군      112\n",
      " 곡성군       96\n",
      " 함평군       85\n",
      " 진도군       83\n",
      " 신안군       61\n",
      "Name: count, dtype: int64\n"
     ]
    }
   ],
   "source": [
    "cafe_address=cafe_df['소재지전체주소']\n",
    "cafe_address_fr=cafe_address.str.slice(start=4, stop=9, step=1)\n",
    "cafe_n=cafe_address_fr.value_counts()\n",
    "print(cafe_n)"
   ]
  },
  {
   "cell_type": "code",
   "execution_count": 78,
   "metadata": {},
   "outputs": [
    {
     "name": "stdout",
     "output_type": "stream",
     "text": [
      "개방자치단체코드\n",
      "4810000    268\n",
      "4820000    143\n",
      "4890000     70\n",
      "4830000     52\n",
      "4930000     44\n",
      "4940000     43\n",
      "4800000     39\n",
      "4920000     37\n",
      "4870000     28\n",
      "4850000     27\n",
      "4980000     27\n",
      "5010000     27\n",
      "4880000     26\n",
      "4950000     25\n",
      "4860000     20\n",
      "4910000     17\n",
      "4970000     17\n",
      "4990000     17\n",
      "4900000     13\n",
      "4840000     11\n",
      "4960000      9\n",
      "5000000      7\n",
      "Name: count, dtype: int64\n"
     ]
    }
   ],
   "source": [
    "accomm_num=accomm_df.dropna(axis=0)\n",
    "acco_n=accomm_num['개방자치단체코드'].value_counts() #지역별 숙소 개수\n",
    "print(acco_n)"
   ]
  },
  {
   "cell_type": "markdown",
   "metadata": {},
   "source": [
    "매력 요소: 비대면 지수, 외부 유입 지수"
   ]
  },
  {
   "cell_type": "code",
   "execution_count": null,
   "metadata": {},
   "outputs": [],
   "source": [
    "alien=pd.concat([alien1,alien2],axis=1,ignore_index=True)\n",
    "alien.drop([2],axis=1,inplace=True) #순위 제거\n",
    "alien['평균외지인방문자수']=(alien[1]+alien[3])/2 \n",
    "\n",
    "resider=pd.concat([resider1,resider2],axis=1,ignore_index=True)\n",
    "resider.drop([2],axis=1,inplace=True)\n",
    "resider['평균현지인방문자수']=(resider[1]+resider[3])/2\n",
    "\n",
    "regions=alien[0]\n",
    "\n",
    "calm_score=alien['평균외지인방문자수']/resider['평균현지인방문자수']*100 #선행연구 참고\n",
    "induce_score=alien['평균외지인방문자수']-resider['평균현지인방문자수']\n",
    "\n",
    "attract_df=pd.concat([regions,calm_score,induce_score],axis=1)\n",
    "attract_col=['지역','비대면지수','외부유입지수']\n",
    "attract_df.columns=attract_col\n",
    "attract_df.set_index('지역',inplace=True)"
   ]
  },
  {
   "cell_type": "code",
   "execution_count": null,
   "metadata": {},
   "outputs": [],
   "source": [
    "acco_n_fr=list(acco_n).copy()\n",
    "cafe_n_fr=list(cafe_fr).copy()\n",
    "cafe_n_fr\n",
    "# attract_df['숙소개수']=acco_n_fr\n",
    "# attract_df['카페개수']=cafe_n_fr\n",
    "\n",
    "# print(attract_df)\n",
    "\n",
    "# attract_df.corr() #둘 다 0.717266\n",
    "# sns.pairplot(attract_df) #조용한 곳일수록 유입이 많다."
   ]
  },
  {
   "cell_type": "markdown",
   "metadata": {},
   "source": [
    "콘텐츠"
   ]
  },
  {
   "cell_type": "code",
   "execution_count": null,
   "metadata": {},
   "outputs": [],
   "source": [
    "contents2.drop('광역시/도',axis=1,inplace=True)"
   ]
  },
  {
   "cell_type": "code",
   "execution_count": null,
   "metadata": {},
   "outputs": [],
   "source": [
    "count_num=0\n",
    "sites=[]\n",
    "rnum=[]\n",
    "\n",
    "for i in range(len(contents2)): #22'09~23'08\n",
    "   for j in range(len(contents1)): #21'09~22'08\n",
    "        if contents2['관광지명'][i]==contents1['관광지명'][j]:\n",
    "            count_num+=1\n",
    "            sites.append(contents2['관광지명'][i])\n",
    "            rnum.append(contents2['검색건수'][i])\n",
    "\n",
    "print(count_num) #451: 인기 관광지 500곳 중 451곳은 반복해서 수요가 많다.\n",
    "print(sites) #사람들이 반복해서 찾는 곳"
   ]
  },
  {
   "cell_type": "code",
   "execution_count": null,
   "metadata": {},
   "outputs": [],
   "source": [
    "x1=np.arange(len(contents2))\n",
    "plt.scatter(x1,contents2['검색건수'])\n",
    "x2=np.arange(len(rnum))\n",
    "plt.scatter(x2,rnum,c='r')\n",
    "\n",
    "plt.ylabel('검색건수')\n",
    "plt.title('전라남도 관광지 검색량') #가는 곳(만) 또 감"
   ]
  },
  {
   "cell_type": "code",
   "execution_count": null,
   "metadata": {},
   "outputs": [],
   "source": [
    "ct2=contents2.drop_duplicates(subset=['시/군/구'])\n",
    "contents_df=ct2.drop(['중분류 카테고리','순위','관광지명','도로명주소'], axis=1).reset_index(drop=True)\n",
    "print(contents_df)"
   ]
  },
  {
   "cell_type": "markdown",
   "metadata": {},
   "source": [
    "데이터 취합"
   ]
  },
  {
   "cell_type": "code",
   "execution_count": null,
   "metadata": {},
   "outputs": [],
   "source": [
    "cafe_final=cafe_fr.reset_index()\n",
    "cafe_final.columns=['지역','카페 개수']\n",
    "\n",
    "diff=meal['항목'].compare(cafe_final['지역'])\n",
    "print(diff)\n",
    "\n",
    "print(cafe_final)"
   ]
  },
  {
   "cell_type": "code",
   "execution_count": null,
   "metadata": {},
   "outputs": [],
   "source": [
    "cat=['여수시', '순천시', '목포시', '광양시', '나주시', '무안군', '해남군', '영암군', \n",
    "     '고흥군', '화순군', '완도군', '담양군', '영광군', '보성군', '장성군', '장흥군', \n",
    "     '강진군', '구례군', '신안군', '진도군', '곡성군', '함평군']\n",
    "cafe_num=[]\n",
    "\n",
    "for i in range(len(cat)):\n",
    "    for j in range(len(cafe_final)):\n",
    "        if cat[i]==cafe_final['지역'][j]:\n",
    "            cafe_num.append(cafe_final['카페 개수'][j])\n",
    "print(cafe_num)\n",
    "\n",
    "print(cafe_final['지역'])"
   ]
  },
  {
   "cell_type": "code",
   "execution_count": null,
   "metadata": {},
   "outputs": [],
   "source": [
    "visit=[]\n",
    "\n",
    "for i in range(len(meal)):\n",
    "    for j in range(len(contents_df)):\n",
    "        if meal['항목'][i]==contents_df['시/군/구'][j]:\n",
    "            visit.append(contents_df['검색건수'][j])\n",
    "\n",
    "print(visit)\n",
    "\n",
    "cafes=[]\n",
    "\n",
    "for i in range(len(meal)):\n",
    "    for j in range(len(cafe_final)):\n",
    "        if meal['항목'][i]==cafe_final['지역'][j]:\n",
    "            cafes.append(cafe_final['카페 개수'][i])\n",
    "\n",
    "print(cafes)\n"
   ]
  },
  {
   "cell_type": "code",
   "execution_count": null,
   "metadata": {},
   "outputs": [],
   "source": [
    "visit_num=pd.DataFrame(visit)\n",
    "meal['검색건수']=visit\n",
    "\n",
    "meal_columns=['항목','음식점개수','경도','위도','검색건수']\n",
    "meal.columns=meal_columns\n",
    "meal.loc[0,'음식점개수']=3875\n",
    "meal.loc[1,'음식점개수']=3157\n",
    "meal.loc[2,'음식점개수']=2977\n",
    "meal.loc[3,'음식점개수']=1974\n",
    "meal.loc[4,'음식점개수']=1343\n",
    "meal.loc[5,'음식점개수']=1016\n",
    "\n",
    "print(meal)"
   ]
  },
  {
   "cell_type": "code",
   "execution_count": null,
   "metadata": {},
   "outputs": [],
   "source": [
    "sites_num=pd.DataFrame([76,41,40,26,25,19,25,12,16,23,18,\n",
    "                        23,21,16,18,13,17,18,14,16,11,12])\n",
    "tour_df=pd.concat([meal,sites_num],axis=1,ignore_index=True)\n",
    "tour_col=['지역','음식점개수','경도','위도','검색건수','관광지개수']\n",
    "tour_df.columns=tour_col\n",
    "tour_df.set_index('지역',inplace=True)\n",
    "tour_df.info()\n",
    "attract_df.info()"
   ]
  },
  {
   "cell_type": "code",
   "execution_count": null,
   "metadata": {},
   "outputs": [],
   "source": [
    "a_index=attract_df.index\n",
    "t_index=tour_df.index\n",
    "calmness=[]\n",
    "entranger=[]\n",
    "accommodation=[]\n",
    "\n",
    "for i in range(len(tour_df)):\n",
    "    for j in range(len(attract_df)):\n",
    "        if t_index[i]==a_index[j]:\n",
    "            calmness.append(attract_df['비대면지수'][j])\n",
    "            entranger.append(attract_df['외부유입지수'][j])\n",
    "            accommodation.append(attract_df['숙소개수'][j])\n",
    "        else:\n",
    "            continue\n",
    "\n",
    "\n",
    "tour_df['비대면지수']=calmness.copy()\n",
    "tour_df['외부인유입지수']=entranger.copy()\n",
    "tour_df['숙소개수']=accommodation.copy()\n",
    "\n",
    "print(tour_df)"
   ]
  },
  {
   "cell_type": "code",
   "execution_count": null,
   "metadata": {},
   "outputs": [],
   "source": [
    "tour_corr=tour_df.corr()\n",
    "print(tour_corr)\n",
    "\n",
    "sns.pairplot(tour_corr)\n",
    "\n",
    "#외부유입지수<-> (특히)음식점개수, 검색건수, 관광지개수\n",
    "#-> 외지인은 덜 유명한 곳을 찾아간다?\n",
    "#외부유입지수와 비대면지수는 상생"
   ]
  },
  {
   "cell_type": "markdown",
   "metadata": {},
   "source": [
    "시각화"
   ]
  },
  {
   "cell_type": "code",
   "execution_count": null,
   "metadata": {},
   "outputs": [],
   "source": [
    "xmin=min(coord_std['경도'])\n",
    "xmax=max(coord_std['경도'])\n",
    "ymin=min(coord_std['위도'])\n",
    "ymax=max(coord_std['위도'])"
   ]
  },
  {
   "cell_type": "code",
   "execution_count": null,
   "metadata": {},
   "outputs": [],
   "source": [
    "#숙소유형\n",
    "plt.scatter(x=accomm_df['경도'],y=accomm_df['위도'],alpha=0.2,c='b',label='숙소')\n",
    "\n",
    "plt.scatter(x=cafe['경도'],y=cafe['위도'],alpha=0.2,c='m',label='카페')\n",
    "\n",
    "plt.scatter(x=tour_df['경도'],y=tour_df['위도'],c='g',label='지역')\n",
    "\n",
    "\n",
    "plt.title('숙소 및 카페 분포도')\n",
    "\n",
    "plt.xlim(xmin,xmax)\n",
    "plt.ylim(ymin,ymax)\n",
    "\n",
    "plt.legend()\n",
    "\n",
    "plt.show()"
   ]
  },
  {
   "cell_type": "code",
   "execution_count": null,
   "metadata": {},
   "outputs": [],
   "source": [
    "# from sklearn.cluster import KMeans\n",
    "\n",
    "# def doKmeans(X, nclust=2):\n",
    "#     model = KMeans(nclust)\n",
    "#     model.fit(X)\n",
    "#     clust_labels = model.predict(X)\n",
    "#     cent = model.cluster_centers_\n",
    "#     return (clust_labels, cent)\n",
    "\n",
    "# clust_labels, cent = doKmeans(tour_df, 2)\n",
    "# kmeans = pd.DataFrame(clust_labels)\n",
    "# tour_df.insert((tour_df[1]),'kmeans',kmeans)\n",
    "\n",
    "# #Plot the clusters obtained using k means\n",
    "# fig = plt.figure()\n",
    "# ax = fig.add_subplot(111)\n",
    "# scatter = ax.scatter(tour_df['외부인유입지수'],tour_df['비대면지수'],\n",
    "#                      c=kmeans[0],s=50)\n",
    "# ax.set_title('K-Means Clustering')\n",
    "# ax.set_xlabel('GDP per Capita')\n",
    "# ax.set_ylabel('Corruption')\n",
    "# plt.colorbar(scatter)"
   ]
  }
 ],
 "metadata": {
  "kernelspec": {
   "display_name": "Python 3",
   "language": "python",
   "name": "python3"
  },
  "language_info": {
   "codemirror_mode": {
    "name": "ipython",
    "version": 3
   },
   "file_extension": ".py",
   "mimetype": "text/x-python",
   "name": "python",
   "nbconvert_exporter": "python",
   "pygments_lexer": "ipython3",
   "version": "3.10.6"
  }
 },
 "nbformat": 4,
 "nbformat_minor": 2
}
