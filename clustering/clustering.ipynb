{
 "cells": [
  {
   "cell_type": "code",
   "execution_count": 159,
   "metadata": {},
   "outputs": [],
   "source": [
    "import numpy as np\n",
    "import pandas as pd\n",
    "import matplotlib.pyplot as plt\n",
    "import seaborn as sns\n",
    "\n",
    "from pyproj import Transformer\n",
    "\n",
    "from sklearn.preprocessing import StandardScaler\n",
    "\n",
    "from sklearn.linear_model import LinearRegression\n",
    "from sklearn.decomposition import PCA\n",
    "\n",
    "plt.rcParams['font.family'] = 'Malgun Gothic'\n",
    "plt.rcParams['axes.unicode_minus'] = False\n",
    "\n",
    "from sklearn.model_selection import GridSearchCV, RepeatedStratifiedKFold\n",
    "from sklearn.svm import SVC"
   ]
  },
  {
   "cell_type": "code",
   "execution_count": 31,
   "metadata": {},
   "outputs": [],
   "source": [
    "#기본 정보\n",
    "coord_std=pd.read_excel('./기본정보_위경도.xlsx')\n",
    "\n",
    "#숙박 유형\n",
    "pension=pd.read_excel(\"./숙박유형_관광펜션업.xlsx\")\n",
    "camping=pd.read_excel(\"./숙박유형_일반야영장업.xlsx\")\n",
    "hanok=pd.read_excel(\"./숙박유형_한옥체험업.xlsx\")\n",
    "resort=pd.read_excel(\"./숙박유형_호텔리조트.xlsx\") \n",
    "\n",
    "#비대면\n",
    "alien1=pd.read_csv('./비대면_외지인방문자수_1.csv',encoding='cp949')\n",
    "alien2=pd.read_csv('./비대면_외지인방문자수_2.csv',encoding='cp949')\n",
    "resider1=pd.read_csv('./비대면_현지인방문자수_1.csv',encoding='cp949')\n",
    "resider2=pd.read_csv('./비대면_현지인방문자수_2.csv',encoding='cp949')\n",
    "\n",
    "#식음및부대시설\n",
    "meal=pd.read_csv('./부대시설_음식점.csv',encoding='cp949')\n",
    "cafe=pd.read_csv('./부대시설_휴게음식점.csv',encoding='utf-8')\n",
    "\n",
    "#콘텐츠\n",
    "contents1=pd.read_csv('./콘텐츠_관광지_검색순위_상.csv',encoding='cp949')\n",
    "contents2=pd.read_csv('./콘텐츠_관광지_검색순위_하.csv',encoding='cp949')"
   ]
  },
  {
   "cell_type": "code",
   "execution_count": 32,
   "metadata": {},
   "outputs": [],
   "source": [
    "#xy좌표를 위경도로 변환\n",
    "transformer = Transformer.from_crs(2097, 4326)\n",
    "\n",
    "def convert_coordinates(lon, lat):\n",
    "    new_lat, new_lon = transformer.transform(lat, lon) \n",
    "    return new_lon, new_lat  "
   ]
  },
  {
   "cell_type": "markdown",
   "metadata": {},
   "source": [
    "숙박유형"
   ]
  },
  {
   "cell_type": "code",
   "execution_count": 33,
   "metadata": {},
   "outputs": [],
   "source": [
    "def accomm_preprocess(accomm):\n",
    "    accomm.drop(accomm[(accomm['영업상태구분코드']!=1)].index,inplace=True)\n",
    "    accomm=accomm[accomm['개방자치단체코드'].between(4799999,5010000)]\n",
    "    accomm=accomm.loc[:,['개방자치단체코드','좌표정보(X)','좌표정보(Y)']]\n",
    "    accomm.dropna(axis=0,inplace=True)\n",
    "    return accomm\n",
    "\n",
    "pension=accomm_preprocess(pension)\n",
    "camping=accomm_preprocess(camping)\n",
    "hanok=accomm_preprocess(hanok)\n",
    "resort=accomm_preprocess(resort)"
   ]
  },
  {
   "cell_type": "code",
   "execution_count": 34,
   "metadata": {},
   "outputs": [],
   "source": [
    "pension['경도'], pension['위도'] = zip(*pension.apply(lambda row: convert_coordinates(row['좌표정보(X)'], row['좌표정보(Y)']), axis=1))\n",
    "camping['경도'], camping['위도'] = zip(*camping.apply(lambda row: convert_coordinates(row['좌표정보(X)'], row['좌표정보(Y)']), axis=1))\n",
    "hanok['경도'], hanok['위도'] = zip(*hanok.apply(lambda row: convert_coordinates(row['좌표정보(X)'], row['좌표정보(Y)']), axis=1))\n",
    "resort['경도'], resort['위도'] = zip(*resort.apply(lambda row: convert_coordinates(row['좌표정보(X)'], row['좌표정보(Y)']), axis=1))"
   ]
  },
  {
   "cell_type": "code",
   "execution_count": 35,
   "metadata": {},
   "outputs": [
    {
     "name": "stdout",
     "output_type": "stream",
     "text": [
      "     개방자치단체코드          경도         위도\n",
      "0     4810000  127.760489  34.697872\n",
      "1     4810000  127.564499  34.650875\n",
      "2     4810000  127.564499  34.650875\n",
      "3     4810000  127.558727  34.678403\n",
      "4     4810000  127.648417  34.610087\n",
      "..        ...         ...        ...\n",
      "962   4990000  126.826319  34.326470\n",
      "963   4990000  126.830873  34.330946\n",
      "964   5000000  126.323908  34.400986\n",
      "965   5000000  126.323908  34.400986\n",
      "966   5010000  125.428829  34.684648\n",
      "\n",
      "[967 rows x 3 columns]\n"
     ]
    }
   ],
   "source": [
    "accomm_df=pd.concat([pension,camping,hanok,resort],ignore_index=True)\n",
    "accomm_df.drop(['좌표정보(X)','좌표정보(Y)'],axis=1,inplace=True)\n",
    "print(accomm_df)"
   ]
  },
  {
   "cell_type": "code",
   "execution_count": 36,
   "metadata": {},
   "outputs": [
    {
     "name": "stdout",
     "output_type": "stream",
     "text": [
      "[268, 143, 70, 52, 44, 43, 39, 37, 28, 27, 27, 27, 26, 25, 20, 17, 17, 17, 13, 11, 9, 7]\n"
     ]
    }
   ],
   "source": [
    "acco_n=list(accomm_df['개방자치단체코드'].value_counts()) #지역별 숙소 개수\n",
    "print(acco_n)"
   ]
  },
  {
   "cell_type": "markdown",
   "metadata": {},
   "source": [
    "부대시설"
   ]
  },
  {
   "cell_type": "code",
   "execution_count": 37,
   "metadata": {},
   "outputs": [],
   "source": [
    "#카페\n",
    "def cafe_preprocess(cafe):\n",
    "    cafe.drop(cafe[(cafe['영업상태명']!='영업/정상')].index,inplace=True)\n",
    "    cafe=cafe.loc[:,['소재지전체주소','좌표정보(X)','좌표정보(Y)']]\n",
    "    cafe.dropna(axis=0,inplace=True)\n",
    "    return cafe\n",
    "\n",
    "cafe=cafe_preprocess(cafe)"
   ]
  },
  {
   "cell_type": "code",
   "execution_count": 38,
   "metadata": {},
   "outputs": [],
   "source": [
    "cafe['경도'], cafe['위도'] = zip(*cafe.apply(lambda row: convert_coordinates(row['좌표정보(X)'], row['좌표정보(Y)']), axis=1))"
   ]
  },
  {
   "cell_type": "code",
   "execution_count": 39,
   "metadata": {},
   "outputs": [
    {
     "name": "stdout",
     "output_type": "stream",
     "text": [
      "[1226, 1179, 860, 563, 416, 366, 264, 261, 260, 193, 167, 154, 146, 139, 136, 121, 120, 112, 96, 85, 83, 61]\n"
     ]
    }
   ],
   "source": [
    "cafe_address=cafe['소재지전체주소']\n",
    "cafe_address_fr=cafe_address.str.slice(start=4, stop=9, step=1)\n",
    "cafe_n=list(cafe_address_fr.value_counts())\n",
    "print(cafe_n)"
   ]
  },
  {
   "cell_type": "markdown",
   "metadata": {},
   "source": [
    "매력 요소: 비대면 지수, 외부 유입 지수"
   ]
  },
  {
   "cell_type": "code",
   "execution_count": 40,
   "metadata": {},
   "outputs": [],
   "source": [
    "alien=pd.concat([alien1,alien2],axis=1,ignore_index=True)\n",
    "alien.drop([2],axis=1,inplace=True) #순위 제거\n",
    "alien['평균외지인방문자수']=(alien[1]+alien[3])/2\n",
    "alien_score=alien['평균외지인방문자수']\n",
    "\n",
    "resider=pd.concat([resider1,resider2],axis=1,ignore_index=True)\n",
    "resider.drop([2],axis=1,inplace=True)\n",
    "resider['평균현지인방문자수']=(resider[1]+resider[3])/2\n",
    "resider_score=resider['평균현지인방문자수']\n",
    "\n",
    "regions=alien[0]\n",
    "\n",
    "ref_score=(alien['평균외지인방문자수']/resider['평균현지인방문자수'])*100 #선행연구 \n",
    "\n",
    "attract_df=pd.concat([regions,ref_score,alien_score,resider_score],axis=1)\n",
    "attract_col=['지역','비대면지수','평균외지인방문자수','평균현지인방문자수']\n",
    "attract_df.columns=attract_col\n",
    "attract_df.set_index('지역',inplace=True)"
   ]
  },
  {
   "cell_type": "code",
   "execution_count": 41,
   "metadata": {},
   "outputs": [],
   "source": [
    "attract_df['숙소개수']=acco_n\n",
    "attract_df['카페개수']=cafe_n"
   ]
  },
  {
   "cell_type": "markdown",
   "metadata": {},
   "source": [
    "콘텐츠"
   ]
  },
  {
   "cell_type": "code",
   "execution_count": 42,
   "metadata": {},
   "outputs": [],
   "source": [
    "contents2.drop('광역시/도',axis=1,inplace=True)"
   ]
  },
  {
   "cell_type": "code",
   "execution_count": 43,
   "metadata": {},
   "outputs": [
    {
     "name": "stdout",
     "output_type": "stream",
     "text": [
      "451\n",
      "['순천만국가정원', '목포역', '순천역', '죽녹원', '오동도', '여수해상케이블카놀아정류장', 'LF스퀘어광양점', '완도항여객선터미널', '향일암', '목포해상케이블카북항승강장', '아쿠아플라넷여수', '여수엑스포역', '목포종합버스터미널', '화엄사', '나주역', '여수예술랜드', '목포연안여객선터미널', '녹동항', '롯데아울렛남악점', '백양사', '여수공항', '메타프로방스', '순천종합버스터미널', '순천만습지', '낙안읍성민속마을', '섬진강기차마을', '유월드루지테마파크', '율포해수욕장', '영광종합버스터미널', '선암사', '아르떼뮤지엄여수', '불갑사', '송광사', '진도항', '녹동신항연안여객선터미널', 'NC백화점순천점', '여수수산시장', '돌산공원', '무안CC', 'CGV순천신대', '장성역', '푸른솔GC', '무안국제공항', '호남해안로드4코스영광백수해안도로', '여수수산물특화시장', '대흥사', '벌교역', '목포항국제여객터미널', '골드레이크CC', '해남종합버스터미널', '담양관방제림', '사성암', '여수종합버스터미널', '여천역', '암태남강선착장', '중마버스터미널', '신지명사십리해수욕장', '무등산CC', '만성리검은모래해변', '메타세쿼이아가로수길', '구례구역', '순천아랫장', '운림산방', '순천오픈세트장', '아크로CC', '여수연안여객선터미널', '정남진장흥토요시장', '강진버스여객터미널', '신기항여객터미널', 'JNJ골프리조트', '소쇄원', '갓바위', '함평엘리체CC', '나로우주센터우주과학관', '천은사', '진남관공사중(2023년12월완공예정)', '땅끝전망대', '골프존카운티순천', '돌머리해변', '무안시외버스터미널', '목포북항', '땅끝선착장', '여수구항방파제등대', '목포근대역사관1관', '청호시장', '다산베아채CC', '파인비치골프링크스', '목포종합수산시장', '화순CC', '웅천친수공원', '광주CC', '메타세콰이어길', '사우스링스영암CC짐앵', '파인힐스CC', '엘리체컨트리클럽', '영산포공용터미널', '해피니스CC', '국립나주박물관', '보성녹차밭', '윤제림', '고흥우주발사전망대', '창평시장', '여수엑스포여객선터미널', '무안회산백련지', '와온해변', '노고단', '광양버스터미널', '정남진편백숲우드랜드', '담양레이나CC', '곡성역', '쌍산재', '남미륵사', '여수해상케이블카해야정류장', '솔라시도CC', '조례호수공원', '왕인박사유적지', '동부시장', '중마시장', '담양온천', '순천시농산물도매시장', '도곡온천단지', '목포스카이워크', '담양공용버스터미널', '웨스트오션컨트리클럽', '해양수산과학관', '해남공룡박물관', '운주사', '무안클린밸리CC', '여수해양레일바이크', 'CGV목포평화광장', '나주시외버스터미널', '월출산기찬랜드', '빛가람전망대', '순천만국제습지센터', '함평엑스포공원', '보성CC', '마량항', '구례5일장', '목포해상케이블카고하도승강장', '완도타워', '국동항', '세방낙조전망대', '자유시장', '백야선착장', 'CGV나주', '설도항', '서시장', '진도타워', '진도개테마파크', '당목항', '웃장', '유달산공원', '나로도항', '천사섬분재공원', '서망항', '미황사', '광양청매실농원', '화흥포여객선터미널', '구례자연드림파크', '백암해안전망대', '고하도전망대', '고흥공용시외버스터미널', '톱머리해변', '장흥시외버스터미널', '구례공영버스터미널', '세이지우드여수경도CC', '제암산자연휴양림', '연희네슈퍼', '함평시외버스터미널', '한빛원자력발전소홍보관', '완도공용버스터미널', '담양곤충박물관', '독천터미널', '백운산자연휴양림', '목포국제축구센터', '우수영국민관광지', '몰오브광양', '녹테마레', '포라이즌', '황룡강생태공원', '드들강솔밭유원지', '강진만생태공원', '동구리호수공원', '추월산', 'GS칼텍스예울마루', '목포항', '무안황토갯벌랜드', '교동시장', '여수시티파크리조트CC', '진도종합버스터미널', '메가박스순천', '보성역', '모다아울렛순천점', '지리산온천랜드본관 휴업중', '금호화순아쿠아나', '녹동신항', '송공리선착장', '조아밸리CC', '빛가람호수공원', '영광칠산타워', '벌교시장', '백양우리CC', '정남진전망대', '완도수목원', '다산초당', '섬진강어류생태관', '압록유원지', '롯데몰여수점', '창평CC', '송호해수욕장', '퍼플교', '여수해양공원', '디오션CC', '목포신항만', '오동도유람선터미널', '화흥포항', '벌교공용버스터미널', '광양와인동굴', '땅끝국민관광지', '완도항3부두', '백양사역', '국립장성치유의숲', '김대중노벨평화상기념관', '디오션리조트워터파크', '메가박스여수웅천', '사우스링스영암CC카일필립스', '대광해변', '율포해수녹차온천탕', '목포자연사박물관', '나주힐스CC', '농협나주축산물공판장', '영암여객자동차터미널', '라마다여수해상짚트랙', '에콜리안영광CC', '두륜산케이블카', '방장산자연휴양림', '대한다업보성다원제1농장', '홍길동테마파크', '순천만습지갈대군락지', '장미공원', '여수세계박람회장', '전남도립미술관', '함평천지CC', '도갑사', '팔영산자연휴양림', '천사벽화마을', '땅끝모노레일', '소호요트경기장', '구봉산전망대', '대경도대합실', 'CGV목포', '여천시외버스정류장', '백련사', '가우도출렁다리', '목포어린이바다과학관', '함평천지전통시장', '백제불교최초도래지', '망덕포구', '고흥전통시장', '흥국사', '보성비봉공룡공원', '옥과기안CC', '수문해수욕장', '조금나루해변', '명량해상케이블카진도타워상부승강장', '세량제', '무슬목해변', '국립진도자연휴양림', '배알도수변공원', '곡성기차마을전통시장', '도솔암', '나주목사고을시장', '대한다원', '대원사', '만연사', '나주CC', '삼호버스종합터미널', '유달산', '섬진강대나무숲길', '광양역', '무한의다리', '용천사', '전남드래곤즈축구전용구장', '여수중앙시장', 'CGV순천', '낭도항', '무위사', '진도수산시장', '홀통해변', '순천부영CC', '자연생태공원', '4est수목원', '홀통유원지', '화순역', '백길해변', '상무대컨트리클럽', '나로도연안여객선터미널', '진도경찰수련원', '테마파크소풍', '팔영산편백치유의숲', '완도청해포구촬영장', '역전시장', '장성공용버스터미널', '국동항수변공원', '담양추억의골목', '득량역', '함평역', '가마미해수욕장', '장미의거리', '울돌목스카이워크', '한재골계곡', '백운아트홀휴관중(2024년01월02일개관예정)', '주작산자연휴양림', '느러지전망관람대', '소호동동다리', '국립해양문화재연구소', '광양5일시장', '남열해돋이해수욕장', 'CGV여수웅천', '향화도선착장', '순천만잡월드', '무안전통시장', '목포근대역사관2관', '불회사', '암태남강항여객선터미널', '순천CC', '무등산편백자연휴양림', '쉬미항', '중흥골드스파리조트워터락', '모사금해변', '테디베어뮤지엄여수', '한국대나무박물관', '백운동정원', '장도', '성산공원', '진도신비의바닷길', '영산포풍물시장', '여수엑스포컨벤션센터', '중앙시장', '중앙시장', '백바위해수욕장', '정남진장흥물축제', '죽도봉공원', '섬진강벚꽃길', '고려청자박물관', '임자도', '정도리구계등', '유달산조각공원', '옐로우출렁다리', '수만리탐방지원센터', '보성시외버스터미널', '화순고인돌전통시장', '메가박스목포하당', '녹동고속버스터미널', '여수세계박람회장스카이타워', '영암곤충박물관', '완도금일수협수산시장', '도림사', '이순신공원', '청춘창고', '갈두항', '천사대교관광안내소', '광양항컨테이너부두', '죽향CC', '구례시장', '이순신대교홍보관', '문장터미널', '가우도', '영광터미널시장', '금성관', '백야도', '백운쇼핑센터', '홍농버스터미널', '명량해상케이블카진도대교광장하부승강장', '방죽포해변', '서해지방해양경찰청숙영관', '옥곡시장', '비금가산선착장', '돌산항', '연곡사', '중앙시장', '중앙시장', '몽탄역', '수만리생태숲공원', '동가리숲속유원지', '완도항', '보림사', '순천도축장', '계마항', '신월선착장', '낙안민속자연휴양림', '유달유원지', '여수장도근린공원', '구청호시장', '광양CC', '강진시장', '목포원예농협농산물공판장', '과역시외버스터미널', '진남종합시장', '남평골프', '국립나주숲체원', '담빛예술창고', '무등산양떼목장', '청자다리', '삼학도공원', '중흥부두', '소금박물관', '산양진항', '나주영상테마파크', '운조루', '소경도대합실', '영랑생가', '피아골', '나주은행나무수목원', '법성포구', '소등섬', '약산당목대합실', '불갑저수지수변공원', '완도타워모노레일', '용마루길', '갓바위공원', '화포해변', '광양항', '순천만달밤야시장', '능가사', '마량놀토수산시장', '아이뮤지엄', '곡성버스터미널', '테테루테마파크', '송계어촌체험마을', '남악시장', '명옥헌', '황룡전통시장', '태안사', '일로역', '신북시외버스터미널', '압록상상스쿨', '여수세계박람회장해양공원', '천개의향나무숲', '영광물무산행복숲', '낙안읍성', '장보고기념관', '함평엑스포물놀이장', '해남우수영여객선임시터미널', '회진항', '도리포', '여천항', '천관산자연휴양림', '장성호', '대경도선착장', '도원선착장']\n"
     ]
    }
   ],
   "source": [
    "count_num=0\n",
    "sites=[]\n",
    "rnum=[]\n",
    "\n",
    "for i in range(len(contents2)): #22'09~23'08\n",
    "   for j in range(len(contents1)): #21'09~22'08\n",
    "        if contents2['관광지명'][i]==contents1['관광지명'][j]:\n",
    "            count_num+=1\n",
    "            sites.append(contents2['관광지명'][i])\n",
    "            rnum.append(contents2['검색건수'][i])\n",
    "\n",
    "print(count_num) #451: 인기 관광지 500곳 중 451곳은 반복해서 수요가 많다.\n",
    "print(sites) #사람들이 반복해서 찾는 곳"
   ]
  },
  {
   "cell_type": "code",
   "execution_count": 44,
   "metadata": {},
   "outputs": [
    {
     "data": {
      "text/plain": [
       "Text(0.5, 1.0, '전라남도 관광지 검색량')"
      ]
     },
     "execution_count": 44,
     "metadata": {},
     "output_type": "execute_result"
    },
    {
     "data": {
      "image/png": "[encoded data removed]",
      "text/plain": [
       "<Figure size 640x480 with 1 Axes>"
      ]
     },
     "metadata": {},
     "output_type": "display_data"
    }
   ],
   "source": [
    "x1=np.arange(len(contents2))\n",
    "plt.scatter(x1,contents2['검색건수'])\n",
    "x2=np.arange(len(rnum))\n",
    "plt.scatter(x2,rnum,c='r')\n",
    "\n",
    "plt.ylabel('검색건수')\n",
    "plt.title('전라남도 관광지 검색량') #가는 곳(만) 또 감"
   ]
  },
  {
   "cell_type": "code",
   "execution_count": 45,
   "metadata": {},
   "outputs": [
    {
     "name": "stdout",
     "output_type": "stream",
     "text": [
      "   시/군/구     소분류 카테고리    검색건수\n",
      "0    순천시         기타관광  245254\n",
      "1    목포시         교통시설  159899\n",
      "2    담양군         자연공원  132973\n",
      "3    여수시  자연경관(하천/해양)  113284\n",
      "4    광양시          쇼핑몰  102492\n",
      "5    완도군         교통시설  101505\n",
      "6    구례군         종교성지   71502\n",
      "7    나주시         교통시설   66728\n",
      "8    고흥군  자연경관(하천/해양)   58260\n",
      "9    무안군          쇼핑몰   57042\n",
      "10   장성군         종교성지   54430\n",
      "11   곡성군         기타관광   45263\n",
      "12   보성군  자연경관(하천/해양)   39860\n",
      "13   영광군         교통시설   39224\n",
      "14   진도군  자연경관(하천/해양)   34692\n",
      "15   해남군         종교성지   27724\n",
      "16   신안군         교통시설   23194\n",
      "17   화순군      육상레저스포츠   22783\n",
      "18   영암군      육상레저스포츠   21308\n",
      "19   장흥군           시장   20611\n",
      "20   강진군         교통시설   20606\n",
      "21   함평군      육상레저스포츠   19333\n"
     ]
    }
   ],
   "source": [
    "ct2=contents2.drop_duplicates(subset=['시/군/구'])\n",
    "contents_df=ct2.drop(['중분류 카테고리','순위','관광지명','도로명주소'], axis=1).reset_index(drop=True)\n",
    "print(contents_df)"
   ]
  },
  {
   "cell_type": "markdown",
   "metadata": {},
   "source": [
    "데이터 취합"
   ]
  },
  {
   "cell_type": "code",
   "execution_count": 46,
   "metadata": {},
   "outputs": [
    {
     "name": "stdout",
     "output_type": "stream",
     "text": [
      "[113284, 245254, 159899, 102492, 66728, 57042, 27724, 21308, 58260, 22783, 101505, 132973, 39224, 39860, 54430, 20611, 20606, 71502, 23194, 34692, 45263, 19333]\n"
     ]
    }
   ],
   "source": [
    "visit=[]\n",
    "\n",
    "for i in range(len(meal)):\n",
    "    for j in range(len(contents_df)):\n",
    "        if meal['항목'][i]==contents_df['시/군/구'][j]:\n",
    "            visit.append(contents_df['검색건수'][j])\n",
    "\n",
    "print(visit)"
   ]
  },
  {
   "cell_type": "code",
   "execution_count": 47,
   "metadata": {},
   "outputs": [
    {
     "name": "stdout",
     "output_type": "stream",
     "text": [
      "     항목 음식점개수          경도         위도    검색건수\n",
      "0   여수시  3875  127.662222  34.760374  113284\n",
      "1   순천시  3157  127.483333  34.950000  245254\n",
      "2   목포시  2977  126.350000  34.766667  159899\n",
      "3   광양시  1974  127.695501  34.940548  102492\n",
      "4   나주시  1343  126.716667  35.033333   66728\n",
      "5   무안군  1016  126.481686  34.990454   57042\n",
      "6   해남군   798  126.598927  34.573252   27724\n",
      "7   영암군   696  126.696792  34.800169   21308\n",
      "8   고흥군   689  127.284978  34.611222   58260\n",
      "9   화순군   654  126.986480  35.064503   22783\n",
      "10  완도군   610  126.755054  34.311060  101505\n",
      "11  담양군   586  126.988167  35.321139  132973\n",
      "12  영광군   582  126.511987  35.277172   39224\n",
      "13  보성군   494  127.079894  34.771456   39860\n",
      "14  장성군   476  126.784854  35.301833   54430\n",
      "15  장흥군   444  126.906928  34.681686   20611\n",
      "16  강진군   434  126.767261  34.642077   20606\n",
      "17  구례군   419  127.462653  35.202495   71502\n",
      "18  신안군   385  126.101074  34.827332   23194\n",
      "19  진도군   376  126.243148  34.460868   34692\n",
      "20  곡성군   314  127.291918  35.281955   45263\n",
      "21  함평군   298  126.516552  35.065940   19333\n"
     ]
    }
   ],
   "source": [
    "meal['검색건수']=visit\n",
    "\n",
    "meal_columns=['항목','음식점개수','경도','위도','검색건수']\n",
    "meal.columns=meal_columns\n",
    "\n",
    "meal.loc[0,'음식점개수']=3875\n",
    "meal.loc[1,'음식점개수']=3157\n",
    "meal.loc[2,'음식점개수']=2977\n",
    "meal.loc[3,'음식점개수']=1974\n",
    "meal.loc[4,'음식점개수']=1343\n",
    "meal.loc[5,'음식점개수']=1016\n",
    "\n",
    "print(meal)"
   ]
  },
  {
   "cell_type": "code",
   "execution_count": 48,
   "metadata": {},
   "outputs": [
    {
     "name": "stdout",
     "output_type": "stream",
     "text": [
      "<class 'pandas.core.frame.DataFrame'>\n",
      "Index: 22 entries, 여수시 to 함평군\n",
      "Data columns (total 5 columns):\n",
      " #   Column  Non-Null Count  Dtype  \n",
      "---  ------  --------------  -----  \n",
      " 0   음식점개수   22 non-null     object \n",
      " 1   경도      22 non-null     float64\n",
      " 2   위도      22 non-null     float64\n",
      " 3   검색건수    22 non-null     int64  \n",
      " 4   관광지개수   22 non-null     int64  \n",
      "dtypes: float64(2), int64(2), object(1)\n",
      "memory usage: 1.0+ KB\n"
     ]
    }
   ],
   "source": [
    "sites_num=pd.DataFrame([76,41,40,26,25,19,25,12,16,23,18,\n",
    "                        23,21,16,18,13,17,18,14,16,11,12])\n",
    "tour_df=pd.concat([meal,sites_num],axis=1,ignore_index=True)\n",
    "tour_col=['지역','음식점개수','경도','위도','검색건수','관광지개수']\n",
    "tour_df.columns=tour_col\n",
    "tour_df.set_index('지역',inplace=True)\n",
    "tour_df.info()"
   ]
  },
  {
   "cell_type": "code",
   "execution_count": 49,
   "metadata": {},
   "outputs": [
    {
     "name": "stdout",
     "output_type": "stream",
     "text": [
      "     음식점개수          경도         위도    검색건수  관광지개수       비대면지수  숙소개수  카페개수  \\\n",
      "지역                                                                         \n",
      "여수시   3875  127.662222  34.760374  113284     76   49.405687   143  1179   \n",
      "순천시   3157  127.483333  34.950000  245254     41   43.061186    70   860   \n",
      "목포시   2977  126.350000  34.766667  159899     40   41.232053   268  1226   \n",
      "광양시   1974  127.695501  34.940548  102492     26   49.087961    44   416   \n",
      "나주시   1343  126.716667  35.033333   66728     25   62.008706    52   563   \n",
      "무안군   1016  126.481686  34.990454   57042     19   79.961388    17   121   \n",
      "해남군    798  126.598927  34.573252   27724     25   73.605863    25   139   \n",
      "영암군    696  126.696792  34.800169   21308     12   80.345210    20   136   \n",
      "고흥군    689  127.284978  34.611222   58260     16   69.595750    28   260   \n",
      "화순군    654  126.986480  35.064503   22783     23   84.238047    27   167   \n",
      "완도군    610  126.755054  34.311060  101505     18   52.339439    11    85   \n",
      "담양군    586  126.988167  35.321139  132973     23  164.141395    43   366   \n",
      "영광군    582  126.511987  35.277172   39224     21   62.530661    17   112   \n",
      "보성군    494  127.079894  34.771456   39860     16   98.632132    27   193   \n",
      "장성군    476  126.784854  35.301833   54430     18  124.785514    13    96   \n",
      "장흥군    444  126.906928  34.681686   20611     13   58.054895    27   154   \n",
      "강진군    434  126.767261  34.642077   20606     17   70.229029    26   146   \n",
      "구례군    419  127.462653  35.202495   71502     18  117.905852    37   261   \n",
      "신안군    385  126.101074  34.827332   23194     14  122.562591     7    61   \n",
      "진도군    376  126.243148  34.460868   34692     16   90.278926     9    83   \n",
      "곡성군    314  127.291918  35.281955   45263     11  111.218072    39   264   \n",
      "함평군    298  126.516552  35.065940   19333     12  136.376471    17   120   \n",
      "\n",
      "      평균외지인방문자수   평균현지인방문자수  \n",
      "지역                           \n",
      "여수시  27043371.0  54737364.5  \n",
      "순천시  25939672.5  60239103.5  \n",
      "목포시  25342577.5  61463293.0  \n",
      "광양시  13620096.0  27746306.0  \n",
      "나주시  16335163.0  26343338.0  \n",
      "무안군  14931294.0  18673130.0  \n",
      "해남군   8823326.5  11987260.5  \n",
      "영암군  10411912.0  12958970.5  \n",
      "고흥군   6804036.5   9776511.5  \n",
      "화순군  12512281.5  14853480.0  \n",
      "완도군   5912923.0  11297261.0  \n",
      "담양군  15548173.0   9472426.5  \n",
      "영광군   7320827.5  11707580.5  \n",
      "보성군   7103425.0   7201938.0  \n",
      "장성군  10363132.5   8304756.0  \n",
      "장흥군   5282706.0   9099501.5  \n",
      "강진군   5660625.5   8060236.0  \n",
      "구례군   5957218.5   5052521.5  \n",
      "신안군   6929972.0   5654231.0  \n",
      "진도군   5005116.0   5544058.0  \n",
      "곡성군   5699939.0   5125011.5  \n",
      "함평군   6425657.0   4711705.0  \n"
     ]
    }
   ],
   "source": [
    "a_index=attract_df.index\n",
    "t_index=tour_df.index\n",
    "\n",
    "calmness=[]\n",
    "accommodation=[]\n",
    "cafeteria=[]\n",
    "entranger=[]\n",
    "aborigene=[]\n",
    "\n",
    "for i in range(len(tour_df)):\n",
    "    for j in range(len(attract_df)):\n",
    "        if t_index[i]==a_index[j]:\n",
    "            calmness.append(attract_df['비대면지수'][j])\n",
    "            accommodation.append(attract_df['숙소개수'][j])\n",
    "            cafeteria.append(attract_df['카페개수'][j])\n",
    "            aborigene.append(attract_df['평균현지인방문자수'][j])\n",
    "            entranger.append(attract_df['평균외지인방문자수'][j])\n",
    "        else:\n",
    "            continue\n",
    "\n",
    "\n",
    "tour_df['비대면지수']=calmness\n",
    "tour_df['숙소개수']=accommodation\n",
    "tour_df['카페개수']=cafeteria\n",
    "tour_df['평균외지인방문자수']=entranger\n",
    "tour_df['평균현지인방문자수']=aborigene\n",
    "\n",
    "tour_df['음식점개수']=tour_df['음식점개수'].astype('int64')\n",
    "\n",
    "print(tour_df)"
   ]
  },
  {
   "cell_type": "code",
   "execution_count": 50,
   "metadata": {},
   "outputs": [],
   "source": [
    "#실제 평가된 지역의 워케이션 점수 추가\n",
    "prof_score=[5,4,3,0,0,0,0,0,2,0,0,0,0,2,0,0,0,0,2,0,0,0]\n",
    "tour_df['실제점수']=prof_score"
   ]
  },
  {
   "cell_type": "code",
   "execution_count": 55,
   "metadata": {},
   "outputs": [
    {
     "name": "stdout",
     "output_type": "stream",
     "text": [
      "Index(['음식점개수', '경도', '위도', '검색건수', '관광지개수', '비대면지수', '숙소개수', '카페개수',\n",
      "       '평균외지인방문자수', '평균현지인방문자수', '실제점수'],\n",
      "      dtype='object')\n"
     ]
    }
   ],
   "source": [
    "print(tour_df.columns)"
   ]
  },
  {
   "cell_type": "code",
   "execution_count": 61,
   "metadata": {},
   "outputs": [],
   "source": [
    "scaler=StandardScaler()"
   ]
  },
  {
   "cell_type": "code",
   "execution_count": 105,
   "metadata": {},
   "outputs": [
    {
     "name": "stdout",
     "output_type": "stream",
     "text": [
      "         음식점      검색건수       관광지        숙소        카페     외지인방문     현지인방문  \\\n",
      "0   2.850863  0.836628  3.818339  1.755801  2.580347  2.305467  2.122529   \n",
      "1   2.132107  3.231442  1.309703  0.461714  1.623724  2.143666  2.438057   \n",
      "2   1.951917  1.682534  1.238028  3.971704  2.721291  2.056133  2.508266   \n",
      "3   0.947861  0.640789  0.234574  0.000806  0.292248  0.337634  0.574573   \n",
      "4   0.316196 -0.008208  0.162898  0.142624  0.733075  0.735659  0.494111   \n",
      "5  -0.011148 -0.183977 -0.267153 -0.477829 -0.592403  0.529854  0.054220   \n",
      "6  -0.229378 -0.716000  0.162898 -0.336011 -0.538424 -0.365565 -0.329220   \n",
      "7  -0.331485 -0.832429 -0.768881 -0.424648 -0.547421 -0.132681 -0.273492   \n",
      "8  -0.338493 -0.161874 -0.482179 -0.282830 -0.175567 -0.661590 -0.456008   \n",
      "9  -0.373529 -0.805663  0.019548 -0.300557 -0.454457  0.175230 -0.164840   \n",
      "10 -0.417576  0.622878 -0.338829 -0.584193 -0.700360 -0.792226 -0.368792   \n",
      "11 -0.441601  1.193917  0.019548 -0.016921  0.142308  0.620288 -0.473447   \n",
      "12 -0.445605 -0.507314 -0.123803 -0.477829 -0.619392 -0.585829 -0.345260   \n",
      "13 -0.533698 -0.495772 -0.482179 -0.300557 -0.376488 -0.617700 -0.603661   \n",
      "14 -0.551717 -0.231376 -0.338829 -0.548738 -0.667373 -0.139832 -0.540414   \n",
      "15 -0.583751 -0.845077 -0.697205 -0.300557 -0.493442 -0.884615 -0.494835   \n",
      "16 -0.593761 -0.845168 -0.410504 -0.318284 -0.517432 -0.829213 -0.554437   \n",
      "17 -0.608777  0.078424 -0.338829 -0.123285 -0.172568 -0.785732 -0.726932   \n",
      "18 -0.642813 -0.798205 -0.625530 -0.655102 -0.772332 -0.643128 -0.692423   \n",
      "19 -0.651822 -0.589554 -0.482179 -0.619647 -0.706358 -0.925309 -0.698742   \n",
      "20 -0.713888 -0.397726 -0.840556 -0.087830 -0.163572 -0.823449 -0.722775   \n",
      "21 -0.729904 -0.868269 -0.768881 -0.477829 -0.595402 -0.717060 -0.746478   \n",
      "\n",
      "       비대면지수  \n",
      "0  -1.048810  \n",
      "1  -1.242790  \n",
      "2  -1.298716  \n",
      "3  -1.058524  \n",
      "4  -0.663477  \n",
      "5  -0.114580  \n",
      "6  -0.308898  \n",
      "7  -0.102845  \n",
      "8  -0.431506  \n",
      "9   0.016177  \n",
      "10 -0.959111  \n",
      "11  2.459193  \n",
      "12 -0.647518  \n",
      "13  0.456271  \n",
      "14  1.255901  \n",
      "15 -0.784363  \n",
      "16 -0.412144  \n",
      "17  1.045558  \n",
      "18  1.187936  \n",
      "19  0.200875  \n",
      "20  0.841082  \n",
      "21  1.610290  \n"
     ]
    }
   ],
   "source": [
    "x_df=tour_df.loc[:,['음식점개수','검색건수','관광지개수','숙소개수','카페개수',\n",
    "               '평균외지인방문자수','평균현지인방문자수','비대면지수']]\n",
    "\n",
    "x_df=pd.DataFrame(scaler.fit_transform(x_df),\n",
    "                  columns=['음식점','검색건수','관광지','숙소',\n",
    "                           '카페','외지인방문','현지인방문','비대면지수'])\n",
    "print(x_df)\n",
    "\n",
    "Y=tour_df['실제점수']"
   ]
  },
  {
   "cell_type": "code",
   "execution_count": 129,
   "metadata": {},
   "outputs": [
    {
     "data": {
      "image/png": "[encoded data removed]",
      "text/plain": [
       "<Figure size 640x480 with 1 Axes>"
      ]
     },
     "metadata": {},
     "output_type": "display_data"
    }
   ],
   "source": [
    "pca = PCA(n_components=None)\n",
    "pca.fit(x_df)\n",
    "\n",
    "# Plot cumulative explained variances\n",
    "exp_var = pca.explained_variance_ratio_ * 100\n",
    "cum_exp_var = np.cumsum(exp_var)\n",
    "\n",
    "plt.bar(range(1,9), exp_var, align='center',\n",
    "        label='Individual explained variance')\n",
    "\n",
    "plt.step(range(1,9), cum_exp_var, where='mid',\n",
    "         label='Cumulative explained variance', color='red')\n",
    "\n",
    "plt.ylabel('Explained variance percentage')\n",
    "plt.xlabel('Principal component index')\n",
    "plt.xticks(ticks=list(range(1,9)))\n",
    "plt.legend(loc=5)\n",
    "plt.tight_layout()"
   ]
  },
  {
   "cell_type": "code",
   "execution_count": 108,
   "metadata": {},
   "outputs": [],
   "source": [
    "pca=PCA(n_components=3)\n",
    "x_pca=pca.fit_transform(x_df)"
   ]
  },
  {
   "cell_type": "code",
   "execution_count": 158,
   "metadata": {},
   "outputs": [
    {
     "data": {
      "image/png": "[encoded data removed]",
      "text/plain": [
       "<Figure size 640x480 with 2 Axes>"
      ]
     },
     "metadata": {},
     "output_type": "display_data"
    }
   ],
   "source": [
    "fig, axs = plt.subplots(1,2)\n",
    "\n",
    "axs[0].scatter(np.arange(len(x_df)), x_df['비대면지수'], \n",
    "                s=100, c=Y, cmap='viridis', alpha=0.5)\n",
    "\n",
    "axs[1].scatter(x_pca[:,0], x_pca[:,1], \n",
    "                s=100, c=Y, cmap='viridis', alpha=0.5)\n",
    "\n",
    "fig.suptitle('PCA 전후 분포 비교')\n",
    "plt.show()"
   ]
  },
  {
   "cell_type": "code",
   "execution_count": 164,
   "metadata": {},
   "outputs": [
    {
     "name": "stdout",
     "output_type": "stream",
     "text": [
      "0.8181818181818182 [ 0.45495386  0.11684108 -0.09761687]\n"
     ]
    }
   ],
   "source": [
    "lr=LinearRegression()\n",
    "lr.fit(x_pca,Y)\n",
    "print(lr.intercept_,lr.coef_)\n",
    "#y=0.45495386X1+0.11684108X2+(-0.09761687)X3+0.8181818181818182"
   ]
  },
  {
   "cell_type": "markdown",
   "metadata": {},
   "source": [
    "시각화"
   ]
  },
  {
   "cell_type": "code",
   "execution_count": null,
   "metadata": {},
   "outputs": [],
   "source": [
    "xmin=min(coord_std['경도'])\n",
    "xmax=max(coord_std['경도'])\n",
    "ymin=min(coord_std['위도'])\n",
    "ymax=max(coord_std['위도'])"
   ]
  },
  {
   "cell_type": "code",
   "execution_count": null,
   "metadata": {},
   "outputs": [],
   "source": [
    "coord_std.dropna(axis=0)\n",
    "dong=pd.DataFrame(coord_std['시군구'].value_counts())\n",
    "\n",
    "d_index=dong.index\n",
    "d_num=[]\n",
    "\n",
    "for i in range(len(tour_df)):\n",
    "    for j in range(len(dong)):\n",
    "        if t_index[i]==d_index[j]:\n",
    "            d_num.append(dong['count'][j])"
   ]
  },
  {
   "cell_type": "code",
   "execution_count": null,
   "metadata": {},
   "outputs": [],
   "source": [
    "#숙소유형\n",
    "plt.scatter(x=accomm_df['경도'],y=accomm_df['위도'],alpha=0.1,label='숙소')\n",
    "\n",
    "plt.scatter(x=cafe['경도'],y=cafe['위도'],alpha=0.1,label='카페')\n",
    "\n",
    "tour_df.plot(kind='scatter',x='경도', y='위도',\n",
    "             s=tour_df['평균현지인방문자수']/100000,label='평균 현지인 방문 수',\n",
    "             c=tour_df['음식점개수'],cmap='jet',colorbar=True)\n",
    "\n",
    "#plt.title('숙소 및 카페 분포도')\n",
    "\n",
    "plt.xlim(xmin,xmax)\n",
    "plt.ylim(ymin,ymax)\n",
    "\n",
    "plt.legend()\n",
    "\n",
    "plt.show() \n",
    "\n",
    "#새로운 지표 개발. 선형 결합\n",
    "#워케이션 인디케이터: -> 성능 향상도: 유력 지역이 많이 나오도록 세부 조정하면서 지표 개발\n",
    "#--> 과학적 기법을 썼다는 거만 명시: 예) gridSearch\n",
    "#hidden jam 찾기\n",
    "#기존 지표와 나란히 놓고 side to side 비교\n",
    "#map 위에 바로 플로팅\n",
    "\n",
    "#교통과 워케이션 지수도 디자인 영역: \"우리가 새로 한 거\"\n",
    "\n",
    "#장당 10초 발표 하는데 막히면 누구도 이해 못함<--매우 중요\n",
    "#색 다 털어서 3색\n",
    "#2030: 5060세대 비해 적/많은 만큼 가중치 다르게\n",
    "\n",
    "#2030은 자차보유율이 떨어진다. 그래서 더 교통 인프라가 더 중요하다.\n",
    "#work 가 포함되는 부분은 교통 인프라\n",
    "\n",
    "#이거 합친 게 지표다.\n",
    "\n",
    "#정렬하면: 지표로 나열하겠다. 분석과 이어지게(통합안)\n",
    "\n",
    "#지금 기업이 선택한 전남 워케이션 지역은 어디지?\n",
    "\n",
    "#파이랑 프린트아웃 보조\n",
    "#프린트아웃: 2장 모아찍기 출력해와야 visualbility 확보\n",
    "#12일까지 초안"
   ]
  },
  {
   "cell_type": "code",
   "execution_count": null,
   "metadata": {},
   "outputs": [],
   "source": [
    "coord_std.dropna(axis=0,inplace=True)\n",
    "print(coord_std)"
   ]
  },
  {
   "cell_type": "code",
   "execution_count": null,
   "metadata": {},
   "outputs": [],
   "source": [
    "avg_meal_num=dict(tour_df['평균 식당 개수'])\n",
    "avg_meal_num"
   ]
  }
 ],
 "metadata": {
  "kernelspec": {
   "display_name": "Python 3",
   "language": "python",
   "name": "python3"
  },
  "language_info": {
   "codemirror_mode": {
    "name": "ipython",
    "version": 3
   },
   "file_extension": ".py",
   "mimetype": "text/x-python",
   "name": "python",
   "nbconvert_exporter": "python",
   "pygments_lexer": "ipython3",
   "version": "3.10.6"
  }
 },
 "nbformat": 4,
 "nbformat_minor": 2
}
