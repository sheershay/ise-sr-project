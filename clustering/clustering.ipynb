{
 "cells": [
  {
   "cell_type": "code",
   "execution_count": 118,
   "metadata": {},
   "outputs": [],
   "source": [
    "import numpy as np\n",
    "import pandas as pd\n",
    "import matplotlib.pyplot as plt\n",
    "from pyproj import Proj, transform\n",
    "\n",
    "plt.rcParams['font.family'] = 'Malgun Gothic'"
   ]
  },
  {
   "cell_type": "code",
   "execution_count": 119,
   "metadata": {},
   "outputs": [],
   "source": [
    "#위도, 경도\n",
    "jeonnam_info=pd.read_excel('./기본정보_위경도.xlsx')\n",
    "jeonnam_info.drop('읍면동/구',axis=1)\n",
    "\n",
    "#숙박 유형\n",
    "pension=pd.read_excel(\"./숙박유형_관광펜션업.xlsx\")\n",
    "camping=pd.read_excel(\"./숙박유형_일반야영장업.xlsx\")\n",
    "hanok=pd.read_excel(\"./숙박유형_한옥체험업.xlsx\")\n",
    "resort=pd.read_excel(\"./숙박유형_호텔리조트.xlsx\") \n",
    "rural=pd.read_excel('./숙박유형_농어촌숙박.xlsx')\n",
    "\n",
    "#비대면\n",
    "alien1=pd.read_csv('./비대면_외지인방문자수_1.csv',encoding='cp949')\n",
    "alien2=pd.read_csv('./비대면_외지인방문자수_2.csv',encoding='cp949')\n",
    "resider1=pd.read_csv('./비대면_현지인방문자수_1.csv',encoding='cp949')\n",
    "resider2=pd.read_csv('./비대면_현지인방문자수_2.csv',encoding='cp949')\n",
    "\n",
    "#식음및부대시설\n",
    "meal=pd.read_csv('./부대시설_음식점.csv',encoding='cp949')\n",
    "cafe=pd.read_csv('./부대시설_휴게음식점.csv',encoding='utf-8')\n",
    "\n",
    "#콘텐츠\n",
    "contents1=pd.read_csv('./콘텐츠_관광지_검색순위_상.csv',encoding='cp949')\n",
    "contents2=pd.read_csv('./콘텐츠_관광지_검색순위_하.csv',encoding='cp949')"
   ]
  },
  {
   "cell_type": "markdown",
   "metadata": {},
   "source": [
    "숙박유형"
   ]
  },
  {
   "cell_type": "code",
   "execution_count": 120,
   "metadata": {},
   "outputs": [],
   "source": [
    "pension.drop(pension[(pension['영업상태구분코드']!=1)].index,inplace=True)\n",
    "camping.drop(camping[(camping['영업상태구분코드']!=1)].index,inplace=True)\n",
    "hanok.drop(hanok[(hanok['영업상태구분코드']!=1)].index,inplace=True)\n",
    "resort.drop(resort[(resort['영업상태구분코드']!=1)].index,inplace=True)"
   ]
  },
  {
   "cell_type": "code",
   "execution_count": 121,
   "metadata": {},
   "outputs": [],
   "source": [
    "pension=pension[pension['개방자치단체코드'].between(4800000,5100000)]\n",
    "camping=camping[camping['개방자치단체코드'].between(4800000,5100000)]\n",
    "hanok=hanok[hanok['개방자치단체코드'].between(4800000,5100000)]\n",
    "resort=resort[resort['개방자치단체코드'].between(4800000,5100000)]"
   ]
  },
  {
   "cell_type": "code",
   "execution_count": 122,
   "metadata": {},
   "outputs": [],
   "source": [
    "ps=pension.loc[:,['좌표정보(X)','좌표정보(Y)']]\n",
    "cp=camping.loc[:,['좌표정보(X)','좌표정보(Y)']]\n",
    "hk=hanok.loc[:,['좌표정보(X)','좌표정보(Y)']]\n",
    "rs=resort.loc[:,['좌표정보(X)','좌표정보(Y)']]\n",
    "rr=rural.loc[:,['좌표정보(X)','좌표정보(Y)']]"
   ]
  },
  {
   "cell_type": "code",
   "execution_count": 123,
   "metadata": {},
   "outputs": [
    {
     "name": "stderr",
     "output_type": "stream",
     "text": [
      "c:\\Users\\user\\AppData\\Local\\Programs\\Python\\Python310\\lib\\site-packages\\pyproj\\crs\\crs.py:141: FutureWarning: '+init=<authority>:<code>' syntax is deprecated. '<authority>:<code>' is the preferred initialization method. When making the change, be mindful of axis order changes: https://pyproj4.github.io/pyproj/stable/gotchas.html#axis-order-changes-in-proj-6\n",
      "  in_crs_string = _prepare_from_proj_string(in_crs_string)\n",
      "c:\\Users\\user\\AppData\\Local\\Programs\\Python\\Python310\\lib\\site-packages\\pyproj\\crs\\crs.py:141: FutureWarning: '+init=<authority>:<code>' syntax is deprecated. '<authority>:<code>' is the preferred initialization method. When making the change, be mindful of axis order changes: https://pyproj4.github.io/pyproj/stable/gotchas.html#axis-order-changes-in-proj-6\n",
      "  in_crs_string = _prepare_from_proj_string(in_crs_string)\n",
      "C:\\Users\\user\\AppData\\Local\\Temp\\ipykernel_176288\\331578052.py:7: FutureWarning: This function is deprecated. See: https://pyproj4.github.io/pyproj/stable/gotchas.html#upgrading-to-pyproj-2-from-pyproj-1\n",
      "  convert = transform(proj_1, proj_2, acco['좌표정보(X)'].values, acco['좌표정보(Y)'].values)\n",
      "C:\\Users\\user\\AppData\\Local\\Temp\\ipykernel_176288\\331578052.py:7: FutureWarning: This function is deprecated. See: https://pyproj4.github.io/pyproj/stable/gotchas.html#upgrading-to-pyproj-2-from-pyproj-1\n",
      "  convert = transform(proj_1, proj_2, acco['좌표정보(X)'].values, acco['좌표정보(Y)'].values)\n",
      "C:\\Users\\user\\AppData\\Local\\Temp\\ipykernel_176288\\331578052.py:7: FutureWarning: This function is deprecated. See: https://pyproj4.github.io/pyproj/stable/gotchas.html#upgrading-to-pyproj-2-from-pyproj-1\n",
      "  convert = transform(proj_1, proj_2, acco['좌표정보(X)'].values, acco['좌표정보(Y)'].values)\n",
      "C:\\Users\\user\\AppData\\Local\\Temp\\ipykernel_176288\\331578052.py:7: FutureWarning: This function is deprecated. See: https://pyproj4.github.io/pyproj/stable/gotchas.html#upgrading-to-pyproj-2-from-pyproj-1\n",
      "  convert = transform(proj_1, proj_2, acco['좌표정보(X)'].values, acco['좌표정보(Y)'].values)\n",
      "C:\\Users\\user\\AppData\\Local\\Temp\\ipykernel_176288\\331578052.py:7: FutureWarning: This function is deprecated. See: https://pyproj4.github.io/pyproj/stable/gotchas.html#upgrading-to-pyproj-2-from-pyproj-1\n",
      "  convert = transform(proj_1, proj_2, acco['좌표정보(X)'].values, acco['좌표정보(Y)'].values)\n"
     ]
    }
   ],
   "source": [
    "proj_1 = Proj(init='epsg:2097')\n",
    "proj_2 = Proj(init='epsg:4326')\n",
    "\n",
    "accomm=[ps,cp,hk,rs,rr]\n",
    "\n",
    "for acco in accomm:\n",
    "    convert = transform(proj_1, proj_2, acco['좌표정보(X)'].values, acco['좌표정보(Y)'].values)\n",
    "    acco['경도'] = convert[0]\n",
    "    acco['위도'] = convert[1]\n",
    "    acco=acco.loc[:,['위도','경도']]"
   ]
  },
  {
   "cell_type": "markdown",
   "metadata": {},
   "source": [
    "비대면 지수"
   ]
  },
  {
   "cell_type": "code",
   "execution_count": 125,
   "metadata": {},
   "outputs": [
    {
     "name": "stdout",
     "output_type": "stream",
     "text": [
      "     지역       비대면지수        유입지수\n",
      "0   목포시   41.232053 -36120715.5\n",
      "1   여수시   49.405687 -27693993.5\n",
      "2   순천시   43.061186 -34299431.0\n",
      "3   나주시   62.008706 -10008175.0\n",
      "4   광양시   49.087961 -14126210.0\n",
      "5   담양군  164.141395   6075746.5\n",
      "6   곡성군  111.218072    574927.5\n",
      "7   구례군  117.905852    904697.0\n",
      "8   고흥군   69.595750  -2972475.0\n",
      "9   보성군   98.632132    -98513.0\n",
      "10  화순군   84.238047  -2341198.5\n",
      "11  장흥군   58.054895  -3816795.5\n",
      "12  강진군   70.229029  -2399610.5\n",
      "13  해남군   73.605863  -3163934.0\n",
      "14  영암군   80.345210  -2547058.5\n",
      "15  무안군   79.961388  -3741836.0\n",
      "16  함평군  136.376471   1713952.0\n",
      "17  영광군   62.530661  -4386753.0\n",
      "18  장성군  124.785514   2058376.5\n",
      "19  완도군   52.339439  -5384338.0\n",
      "20  진도군   90.278926   -538942.0\n",
      "21  신안군  122.562591   1275741.0\n"
     ]
    }
   ],
   "source": [
    "alien=pd.concat([alien1,alien2],axis=1,ignore_index=True)\n",
    "alien.drop([2],axis=1,inplace=True)\n",
    "alien['평균외지인방문자수']=(alien[1]+alien[3])/2\n",
    "regions=alien[0]\n",
    "\n",
    "resider=pd.concat([resider1,resider2],axis=1,ignore_index=True)\n",
    "resider.drop([2],axis=1,inplace=True)\n",
    "resider['평균현지인방문자수']=(resider[1]+resider[3])/2\n",
    "\n",
    "calm_score=alien['평균외지인방문자수']/resider['평균현지인방문자수']*100 #선행연구 참고\n",
    "induce_score=alien['평균외지인방문자수']-resider['평균현지인방문자수']\n",
    "\n",
    "attract_df=pd.concat([regions,calm_score,induce_score],axis=1)\n",
    "attract_col=['지역','비대면지수','유입지수']\n",
    "attract_df.columns=attract_col\n",
    "\n",
    "print(attract_df)"
   ]
  },
  {
   "cell_type": "markdown",
   "metadata": {},
   "source": [
    "콘텐츠"
   ]
  },
  {
   "cell_type": "code",
   "execution_count": 126,
   "metadata": {},
   "outputs": [
    {
     "name": "stdout",
     "output_type": "stream",
     "text": [
      "<class 'pandas.core.frame.DataFrame'>\n",
      "RangeIndex: 500 entries, 0 to 499\n",
      "Data columns (total 7 columns):\n",
      " #   Column    Non-Null Count  Dtype \n",
      "---  ------    --------------  ----- \n",
      " 0   순위        500 non-null    int64 \n",
      " 1   시/군/구     500 non-null    object\n",
      " 2   관광지명      500 non-null    object\n",
      " 3   도로명주소     500 non-null    object\n",
      " 4   중분류 카테고리  500 non-null    object\n",
      " 5   소분류 카테고리  500 non-null    object\n",
      " 6   검색건수      500 non-null    int64 \n",
      "dtypes: int64(2), object(5)\n",
      "memory usage: 27.5+ KB\n"
     ]
    },
    {
     "data": {
      "text/html": [
       "<div>\n",
       "<style scoped>\n",
       "    .dataframe tbody tr th:only-of-type {\n",
       "        vertical-align: middle;\n",
       "    }\n",
       "\n",
       "    .dataframe tbody tr th {\n",
       "        vertical-align: top;\n",
       "    }\n",
       "\n",
       "    .dataframe thead th {\n",
       "        text-align: right;\n",
       "    }\n",
       "</style>\n",
       "<table border=\"1\" class=\"dataframe\">\n",
       "  <thead>\n",
       "    <tr style=\"text-align: right;\">\n",
       "      <th></th>\n",
       "      <th>순위</th>\n",
       "      <th>시/군/구</th>\n",
       "      <th>관광지명</th>\n",
       "      <th>도로명주소</th>\n",
       "      <th>중분류 카테고리</th>\n",
       "      <th>소분류 카테고리</th>\n",
       "      <th>검색건수</th>\n",
       "    </tr>\n",
       "  </thead>\n",
       "  <tbody>\n",
       "    <tr>\n",
       "      <th>0</th>\n",
       "      <td>1</td>\n",
       "      <td>순천시</td>\n",
       "      <td>순천만국가정원</td>\n",
       "      <td>전남 순천시 국가정원1호길 47-0</td>\n",
       "      <td>기타관광</td>\n",
       "      <td>기타관광</td>\n",
       "      <td>245254</td>\n",
       "    </tr>\n",
       "    <tr>\n",
       "      <th>1</th>\n",
       "      <td>2</td>\n",
       "      <td>목포시</td>\n",
       "      <td>목포역</td>\n",
       "      <td>전남 목포시 영산로 98-0</td>\n",
       "      <td>기타관광</td>\n",
       "      <td>교통시설</td>\n",
       "      <td>159899</td>\n",
       "    </tr>\n",
       "    <tr>\n",
       "      <th>2</th>\n",
       "      <td>3</td>\n",
       "      <td>순천시</td>\n",
       "      <td>순천역</td>\n",
       "      <td>전남 순천시 팔마로 135-0</td>\n",
       "      <td>기타관광</td>\n",
       "      <td>교통시설</td>\n",
       "      <td>141882</td>\n",
       "    </tr>\n",
       "    <tr>\n",
       "      <th>3</th>\n",
       "      <td>4</td>\n",
       "      <td>담양군</td>\n",
       "      <td>죽녹원</td>\n",
       "      <td>전남 담양군 죽녹원로 119-0</td>\n",
       "      <td>자연관광</td>\n",
       "      <td>자연공원</td>\n",
       "      <td>132973</td>\n",
       "    </tr>\n",
       "    <tr>\n",
       "      <th>4</th>\n",
       "      <td>5</td>\n",
       "      <td>여수시</td>\n",
       "      <td>오동도</td>\n",
       "      <td>전남 여수시 오동도로 222-0</td>\n",
       "      <td>자연관광</td>\n",
       "      <td>자연경관(하천/해양)</td>\n",
       "      <td>113284</td>\n",
       "    </tr>\n",
       "    <tr>\n",
       "      <th>...</th>\n",
       "      <td>...</td>\n",
       "      <td>...</td>\n",
       "      <td>...</td>\n",
       "      <td>...</td>\n",
       "      <td>...</td>\n",
       "      <td>...</td>\n",
       "      <td>...</td>\n",
       "    </tr>\n",
       "    <tr>\n",
       "      <th>495</th>\n",
       "      <td>496</td>\n",
       "      <td>화순군</td>\n",
       "      <td>백아산눈썰매장</td>\n",
       "      <td>전남 화순군 백아로 0-0</td>\n",
       "      <td>레저스포츠</td>\n",
       "      <td>육상레저스포츠</td>\n",
       "      <td>2556</td>\n",
       "    </tr>\n",
       "    <tr>\n",
       "      <th>496</th>\n",
       "      <td>497</td>\n",
       "      <td>여수시</td>\n",
       "      <td>대경도선착장</td>\n",
       "      <td>전남 여수시 대경도길 6-0</td>\n",
       "      <td>기타관광</td>\n",
       "      <td>교통시설</td>\n",
       "      <td>2548</td>\n",
       "    </tr>\n",
       "    <tr>\n",
       "      <th>497</th>\n",
       "      <td>498</td>\n",
       "      <td>화순군</td>\n",
       "      <td>화순고인돌공원</td>\n",
       "      <td>전남 화순군</td>\n",
       "      <td>문화관광</td>\n",
       "      <td>도시공원</td>\n",
       "      <td>2547</td>\n",
       "    </tr>\n",
       "    <tr>\n",
       "      <th>498</th>\n",
       "      <td>499</td>\n",
       "      <td>나주시</td>\n",
       "      <td>태평사</td>\n",
       "      <td>전남 나주시 금성산길 387-83</td>\n",
       "      <td>역사관광</td>\n",
       "      <td>종교성지</td>\n",
       "      <td>2538</td>\n",
       "    </tr>\n",
       "    <tr>\n",
       "      <th>499</th>\n",
       "      <td>499</td>\n",
       "      <td>무안군</td>\n",
       "      <td>도원선착장</td>\n",
       "      <td>전남 무안군 운해로 0-0</td>\n",
       "      <td>기타관광</td>\n",
       "      <td>교통시설</td>\n",
       "      <td>2538</td>\n",
       "    </tr>\n",
       "  </tbody>\n",
       "</table>\n",
       "<p>500 rows × 7 columns</p>\n",
       "</div>"
      ],
      "text/plain": [
       "      순위 시/군/구     관광지명                도로명주소 중분류 카테고리     소분류 카테고리    검색건수\n",
       "0      1   순천시  순천만국가정원  전남 순천시 국가정원1호길 47-0     기타관광         기타관광  245254\n",
       "1      2   목포시      목포역      전남 목포시 영산로 98-0     기타관광         교통시설  159899\n",
       "2      3   순천시      순천역     전남 순천시 팔마로 135-0     기타관광         교통시설  141882\n",
       "3      4   담양군      죽녹원    전남 담양군 죽녹원로 119-0     자연관광         자연공원  132973\n",
       "4      5   여수시      오동도    전남 여수시 오동도로 222-0     자연관광  자연경관(하천/해양)  113284\n",
       "..   ...   ...      ...                  ...      ...          ...     ...\n",
       "495  496   화순군  백아산눈썰매장       전남 화순군 백아로 0-0    레저스포츠      육상레저스포츠    2556\n",
       "496  497   여수시   대경도선착장      전남 여수시 대경도길 6-0     기타관광         교통시설    2548\n",
       "497  498   화순군  화순고인돌공원               전남 화순군     문화관광         도시공원    2547\n",
       "498  499   나주시      태평사   전남 나주시 금성산길 387-83     역사관광         종교성지    2538\n",
       "499  499   무안군    도원선착장       전남 무안군 운해로 0-0     기타관광         교통시설    2538\n",
       "\n",
       "[500 rows x 7 columns]"
      ]
     },
     "execution_count": 126,
     "metadata": {},
     "output_type": "execute_result"
    }
   ],
   "source": [
    "contents1.info()\n",
    "\n",
    "contents2.drop('광역시/도',axis=1,inplace=True)\n",
    "contents2"
   ]
  },
  {
   "cell_type": "code",
   "execution_count": 150,
   "metadata": {},
   "outputs": [
    {
     "name": "stdout",
     "output_type": "stream",
     "text": [
      "451\n",
      "['순천만국가정원', '목포역', '순천역', '죽녹원', '오동도', '여수해상케이블카놀아정류장', 'LF스퀘어광양점', '완도항여객선터미널', '향일암', '목포해상케이블카북항승강장', '아쿠아플라넷여수', '여수엑스포역', '목포종합버스터미널', '화엄사', '나주역', '여수예술랜드', '목포연안여객선터미널', '녹동항', '롯데아울렛남악점', '백양사', '여수공항', '메타프로방스', '순천종합버스터미널', '순천만습지', '낙안읍성민속마을', '섬진강기차마을', '유월드루지테마파크', '율포해수욕장', '영광종합버스터미널', '선암사', '아르떼뮤지엄여수', '불갑사', '송광사', '진도항', '녹동신항연안여객선터미널', 'NC백화점순천점', '여수수산시장', '돌산공원', '무안CC', 'CGV순천신대', '장성역', '푸른솔GC', '무안국제공항', '호남해안로드4코스영광백수해안도로', '여수수산물특화시장', '대흥사', '벌교역', '목포항국제여객터미널', '골드레이크CC', '해남종합버스터미널', '담양관방제림', '사성암', '여수종합버스터미널', '여천역', '암태남강선착장', '중마버스터미널', '신지명사십리해수욕장', '무등산CC', '만성리검은모래해변', '메타세쿼이아가로수길', '구례구역', '순천아랫장', '운림산방', '순천오픈세트장', '아크로CC', '여수연안여객선터미널', '정남진장흥토요시장', '강진버스여객터미널', '신기항여객터미널', 'JNJ골프리조트', '소쇄원', '갓바위', '함평엘리체CC', '나로우주센터우주과학관', '천은사', '진남관공사중(2023년12월완공예정)', '땅끝전망대', '골프존카운티순천', '돌머리해변', '무안시외버스터미널', '목포북항', '땅끝선착장', '여수구항방파제등대', '목포근대역사관1관', '청호시장', '다산베아채CC', '파인비치골프링크스', '목포종합수산시장', '화순CC', '웅천친수공원', '광주CC', '메타세콰이어길', '사우스링스영암CC짐앵', '파인힐스CC', '엘리체컨트리클럽', '영산포공용터미널', '해피니스CC', '국립나주박물관', '보성녹차밭', '윤제림', '고흥우주발사전망대', '창평시장', '여수엑스포여객선터미널', '무안회산백련지', '와온해변', '노고단', '광양버스터미널', '정남진편백숲우드랜드', '담양레이나CC', '곡성역', '쌍산재', '남미륵사', '여수해상케이블카해야정류장', '솔라시도CC', '조례호수공원', '왕인박사유적지', '동부시장', '중마시장', '담양온천', '순천시농산물도매시장', '도곡온천단지', '목포스카이워크', '담양공용버스터미널', '웨스트오션컨트리클럽', '해양수산과학관', '해남공룡박물관', '운주사', '무안클린밸리CC', '여수해양레일바이크', 'CGV목포평화광장', '나주시외버스터미널', '월출산기찬랜드', '빛가람전망대', '순천만국제습지센터', '함평엑스포공원', '보성CC', '마량항', '구례5일장', '목포해상케이블카고하도승강장', '완도타워', '국동항', '세방낙조전망대', '자유시장', '백야선착장', 'CGV나주', '설도항', '서시장', '진도타워', '진도개테마파크', '당목항', '웃장', '유달산공원', '나로도항', '천사섬분재공원', '서망항', '미황사', '광양청매실농원', '화흥포여객선터미널', '구례자연드림파크', '백암해안전망대', '고하도전망대', '고흥공용시외버스터미널', '톱머리해변', '장흥시외버스터미널', '구례공영버스터미널', '세이지우드여수경도CC', '제암산자연휴양림', '연희네슈퍼', '함평시외버스터미널', '한빛원자력발전소홍보관', '완도공용버스터미널', '담양곤충박물관', '독천터미널', '백운산자연휴양림', '목포국제축구센터', '우수영국민관광지', '몰오브광양', '녹테마레', '포라이즌', '황룡강생태공원', '드들강솔밭유원지', '강진만생태공원', '동구리호수공원', '추월산', 'GS칼텍스예울마루', '목포항', '무안황토갯벌랜드', '교동시장', '여수시티파크리조트CC', '진도종합버스터미널', '메가박스순천', '보성역', '모다아울렛순천점', '지리산온천랜드본관 휴업중', '금호화순아쿠아나', '녹동신항', '송공리선착장', '조아밸리CC', '빛가람호수공원', '영광칠산타워', '벌교시장', '백양우리CC', '정남진전망대', '완도수목원', '다산초당', '섬진강어류생태관', '압록유원지', '롯데몰여수점', '창평CC', '송호해수욕장', '퍼플교', '여수해양공원', '디오션CC', '목포신항만', '오동도유람선터미널', '화흥포항', '벌교공용버스터미널', '광양와인동굴', '땅끝국민관광지', '완도항3부두', '백양사역', '국립장성치유의숲', '김대중노벨평화상기념관', '디오션리조트워터파크', '메가박스여수웅천', '사우스링스영암CC카일필립스', '대광해변', '율포해수녹차온천탕', '목포자연사박물관', '나주힐스CC', '농협나주축산물공판장', '영암여객자동차터미널', '라마다여수해상짚트랙', '에콜리안영광CC', '두륜산케이블카', '방장산자연휴양림', '대한다업보성다원제1농장', '홍길동테마파크', '순천만습지갈대군락지', '장미공원', '여수세계박람회장', '전남도립미술관', '함평천지CC', '도갑사', '팔영산자연휴양림', '천사벽화마을', '땅끝모노레일', '소호요트경기장', '구봉산전망대', '대경도대합실', 'CGV목포', '여천시외버스정류장', '백련사', '가우도출렁다리', '목포어린이바다과학관', '함평천지전통시장', '백제불교최초도래지', '망덕포구', '고흥전통시장', '흥국사', '보성비봉공룡공원', '옥과기안CC', '수문해수욕장', '조금나루해변', '명량해상케이블카진도타워상부승강장', '세량제', '무슬목해변', '국립진도자연휴양림', '배알도수변공원', '곡성기차마을전통시장', '도솔암', '나주목사고을시장', '대한다원', '대원사', '만연사', '나주CC', '삼호버스종합터미널', '유달산', '섬진강대나무숲길', '광양역', '무한의다리', '용천사', '전남드래곤즈축구전용구장', '여수중앙시장', 'CGV순천', '낭도항', '무위사', '진도수산시장', '홀통해변', '순천부영CC', '자연생태공원', '4est수목원', '홀통유원지', '화순역', '백길해변', '상무대컨트리클럽', '나로도연안여객선터미널', '진도경찰수련원', '테마파크소풍', '팔영산편백치유의숲', '완도청해포구촬영장', '역전시장', '장성공용버스터미널', '국동항수변공원', '담양추억의골목', '득량역', '함평역', '가마미해수욕장', '장미의거리', '울돌목스카이워크', '한재골계곡', '백운아트홀휴관중(2024년01월02일개관예정)', '주작산자연휴양림', '느러지전망관람대', '소호동동다리', '국립해양문화재연구소', '광양5일시장', '남열해돋이해수욕장', 'CGV여수웅천', '향화도선착장', '순천만잡월드', '무안전통시장', '목포근대역사관2관', '불회사', '암태남강항여객선터미널', '순천CC', '무등산편백자연휴양림', '쉬미항', '중흥골드스파리조트워터락', '모사금해변', '테디베어뮤지엄여수', '한국대나무박물관', '백운동정원', '장도', '성산공원', '진도신비의바닷길', '영산포풍물시장', '여수엑스포컨벤션센터', '중앙시장', '중앙시장', '백바위해수욕장', '정남진장흥물축제', '죽도봉공원', '섬진강벚꽃길', '고려청자박물관', '임자도', '정도리구계등', '유달산조각공원', '옐로우출렁다리', '수만리탐방지원센터', '보성시외버스터미널', '화순고인돌전통시장', '메가박스목포하당', '녹동고속버스터미널', '여수세계박람회장스카이타워', '영암곤충박물관', '완도금일수협수산시장', '도림사', '이순신공원', '청춘창고', '갈두항', '천사대교관광안내소', '광양항컨테이너부두', '죽향CC', '구례시장', '이순신대교홍보관', '문장터미널', '가우도', '영광터미널시장', '금성관', '백야도', '백운쇼핑센터', '홍농버스터미널', '명량해상케이블카진도대교광장하부승강장', '방죽포해변', '서해지방해양경찰청숙영관', '옥곡시장', '비금가산선착장', '돌산항', '연곡사', '중앙시장', '중앙시장', '몽탄역', '수만리생태숲공원', '동가리숲속유원지', '완도항', '보림사', '순천도축장', '계마항', '신월선착장', '낙안민속자연휴양림', '유달유원지', '여수장도근린공원', '구청호시장', '광양CC', '강진시장', '목포원예농협농산물공판장', '과역시외버스터미널', '진남종합시장', '남평골프', '국립나주숲체원', '담빛예술창고', '무등산양떼목장', '청자다리', '삼학도공원', '중흥부두', '소금박물관', '산양진항', '나주영상테마파크', '운조루', '소경도대합실', '영랑생가', '피아골', '나주은행나무수목원', '법성포구', '소등섬', '약산당목대합실', '불갑저수지수변공원', '완도타워모노레일', '용마루길', '갓바위공원', '화포해변', '광양항', '순천만달밤야시장', '능가사', '마량놀토수산시장', '아이뮤지엄', '곡성버스터미널', '테테루테마파크', '송계어촌체험마을', '남악시장', '명옥헌', '황룡전통시장', '태안사', '일로역', '신북시외버스터미널', '압록상상스쿨', '여수세계박람회장해양공원', '천개의향나무숲', '영광물무산행복숲', '낙안읍성', '장보고기념관', '함평엑스포물놀이장', '해남우수영여객선임시터미널', '회진항', '도리포', '여천항', '천관산자연휴양림', '장성호', '대경도선착장', '도원선착장']\n"
     ]
    }
   ],
   "source": [
    "count_num=0\n",
    "sites=[]\n",
    "\n",
    "for i in range(len(contents2)): #22'09~23'08\n",
    "   for j in range(len(contents1)): #21'09~22'08\n",
    "        if contents2['관광지명'][i]==contents1['관광지명'][j]:\n",
    "            count_num+=1\n",
    "            sites.append(contents2['관광지명'][i])\n",
    "\n",
    "print(count_num) #451: 인기 관광지 500곳 중 451곳은 반복해서 수요가 많다.\n",
    "print(sites)"
   ]
  },
  {
   "cell_type": "code",
   "execution_count": 154,
   "metadata": {},
   "outputs": [
    {
     "name": "stdout",
     "output_type": "stream",
     "text": [
      "      순위 시/군/구   관광지명           도로명주소 중분류 카테고리 소분류 카테고리  검색건수\n",
      "499  499   무안군  도원선착장  전남 무안군 운해로 0-0     기타관광     교통시설  2538\n"
     ]
    }
   ],
   "source": []
  },
  {
   "cell_type": "markdown",
   "metadata": {},
   "source": [
    "시각화"
   ]
  },
  {
   "cell_type": "code",
   "execution_count": null,
   "metadata": {},
   "outputs": [],
   "source": [
    "xmin=min(jeonnam_info['경도'])\n",
    "xmax=max(jeonnam_info['경도'])\n",
    "ymin=min(jeonnam_info['위도'])\n",
    "ymax=max(jeonnam_info['위도'])"
   ]
  },
  {
   "cell_type": "code",
   "execution_count": null,
   "metadata": {},
   "outputs": [],
   "source": [
    "#숙소유형\n",
    "plt.scatter(x=ps['경도'],y=ps['위도'],alpha=0.2,s=100,c='green')\n",
    "plt.scatter(x=cp['경도'],y=cp['위도'],alpha=0.2,s=100,c='green')\n",
    "plt.scatter(x=hk['경도'],y=hk['위도'],alpha=0.2,s=100,c='green')\n",
    "plt.scatter(x=rs['경도'],y=rs['위도'],alpha=0.2,s=100,c='green')\n",
    "plt.scatter(x=rr['경도'],y=rr['위도'],alpha=0.2,s=100,c='green')\n",
    "\n",
    "plt.scatter(x=mea['경도'],y=restuarant['위도'],alpha=0.5,s=100,c='m',label='식당')\n",
    "\n",
    "plt.title('숙소유형 분포도')\n",
    "\n",
    "plt.xlim(xmin,xmax)\n",
    "plt.ylim(ymin,ymax)\n",
    "\n",
    "plt.legend()\n",
    "\n",
    "plt.show()\n",
    "\n",
    "print(xmin,xmax,ymin,ymax)"
   ]
  }
 ],
 "metadata": {
  "kernelspec": {
   "display_name": "Python 3",
   "language": "python",
   "name": "python3"
  },
  "language_info": {
   "codemirror_mode": {
    "name": "ipython",
    "version": 3
   },
   "file_extension": ".py",
   "mimetype": "text/x-python",
   "name": "python",
   "nbconvert_exporter": "python",
   "pygments_lexer": "ipython3",
   "version": "3.10.6"
  }
 },
 "nbformat": 4,
 "nbformat_minor": 2
}
